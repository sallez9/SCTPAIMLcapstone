{
  "nbformat": 4,
  "nbformat_minor": 0,
  "metadata": {
    "colab": {
      "provenance": [],
      "gpuType": "T4",
      "authorship_tag": "ABX9TyPHtrjqmGkLlJTNTT8OYmVI",
      "include_colab_link": true
    },
    "kernelspec": {
      "name": "python3",
      "display_name": "Python 3"
    },
    "language_info": {
      "name": "python"
    },
    "accelerator": "GPU"
  },
  "cells": [
    {
      "cell_type": "markdown",
      "metadata": {
        "id": "view-in-github",
        "colab_type": "text"
      },
      "source": [
        "<a href=\"https://colab.research.google.com/github/sallez9/SCTPAIMLcapstone/blob/main/zu_CVproduceqlty_260824.ipynb\" target=\"_parent\"><img src=\"https://colab.research.google.com/assets/colab-badge.svg\" alt=\"Open In Colab\"/></a>"
      ]
    },
    {
      "cell_type": "markdown",
      "source": [
        "**Computer Vision for Produce Quality in Fruit**\n",
        "\n",
        "**Reference:**\n",
        "* **TensorFlow/Keras documentation:** [https://www.tensorflow.org/](https://www.tensorflow.org/)\n",
        "* **Deep Learning book (Ian Goodfellow, Yoshua Bengio, and Aaron Courville):** [http://www.deeplearningbook.org/](http://www.deeplearningbook.org/)\n",
        "* **Hands-On Machine Learning with Scikit-Learn, Keras & TensorFlow (Aurélien Géron)**\n",
        "* **Multilabel Fruits Classification | CNN | Keras' kaggle.com Devashree Madhugiri** https://www.kaggle.com/code/devsubhash/multilabel-fruits-classification-cnn-keras\n",
        "\n",
        "* **SVMClassification_OnAppledatasetOpenCV** https://github.com/sarathbabu123/SVMClassification_OnAppledatasetOpenCV\n",
        "\n",
        "This project proposes a method involving the deep learning technique which is CNN for feature extraction and classification of defect fruits. It is one of the applications of image classification problems. This approach uses an RGB channel image of the fruit under examination.\n",
        "\n",
        "Use Case: Detecting Defect Fruits\n",
        "\n",
        "With Deep Learning's capabilities, fruit classification can be well implemented as a replacement of traditional manual methods in the agricultural, horticultural and botany domains. By utilizing these models,we can introduce efficiency and accuracy into various fruit-related processes.\n",
        "\n",
        "Fruit classification can assist in inventory management for grocery stores and warehouses. With the ability to automatically classify and count different fruits in stock, businesses can optimize their supply chain and ensure adequate stock levels.\n",
        "\n",
        "Deep Learning can aid in identifying spoiled fruits, such as detecting fungus presence on their skin. By automating this process, we can minimize waste and enhance the quality control in fruit distribution centers.\n",
        "\n",
        "By analyzing fruit images, Deep Learning models can spot signs of diseases or pests affecting the fruit's health. Early detection enables timely intervention, preventing the spread of diseases and safeguarding crop yields.\n",
        "\n"
      ],
      "metadata": {
        "id": "3AmtxxoClkTS"
      }
    },
    {
      "cell_type": "markdown",
      "source": [
        "This guide will walk you through adapting the Convolutional Neural Network (CNN) architecture from TensorFlow's image classification tutorial (https://www.tensorflow.org/tutorials/images/classification) to fruits-360 a popular dataset. You'll build and train the model to achieve at least 88% accuracy on the testing/validation set.\n",
        "\n",
        "Prerequisites:\n",
        "\n",
        "Familiarity with TensorFlow and Keras for building deep learning models.\n",
        "Basic understanding of Convolutional Neural Networks (CNNs).\n",
        "Loaded the github cloned fruits-360 image dataset with training, validation, and testing splits.\n",
        "Steps:\n",
        "\n",
        "Import Libraries and Load Data:\n",
        "\n",
        "Start by importing the necessary libraries like TensorFlow, NumPy, and Matplotlib.\n",
        "Load fruits-360 image dataset using TensorFlow's data loading functionalities (e.g., tf.keras.preprocessing.image.ImageDataGenerator). Remember to split the data into training, validation, and testing sets.\n",
        "Define the CNN Architecture:\n",
        "\n",
        "The provided TensorFlow tutorial uses a basic CNN architecture with convolutional and pooling layers followed by dense layers.\n",
        "Modify this architecture to suit your specific dataset. Here are some considerations:\n",
        "Experiment with the number and configuration of convolutional layers (filter size, number of filters, activation functions).\n",
        "Consider adding techniques like batch normalization and dropout layers to improve model regularization.\n",
        "Adjust the number of units in the dense layers based on the complexity of your data.\n",
        "Compile the Model:\n",
        "\n",
        "Once you've defined your CNN architecture, compile the model using a suitable optimizer (e.g., Adam), loss function (e.g., categorical cross-entropy for multi-class classification), and metrics (e.g., accuracy).\n",
        "Implement Training Loop with Early Stopping:\n",
        "\n",
        "Define a training loop that iterates through the training data in batches.\n",
        "Inside the loop:\n",
        "Feed the training data to the model for training.\n",
        "Track training metrics (loss and accuracy) on each batch.\n",
        "Evaluate the model's performance on the validation set periodically (e.g., after each epoch).\n",
        "Implement an Early Stopping callback to halt training if the validation accuracy doesn't improve for a predefined number of epochs. This helps prevent overfitting.\n",
        "Train the Model:\n",
        "\n",
        "Train the model using the defined training loop. Monitor the training progress and validation accuracy.\n",
        "If the validation accuracy plateaus or starts decreasing, adjust hyperparameters (learning rate, number of epochs) or modify the model architecture and retrain.\n",
        "Evaluate the Model:\n",
        "\n",
        "After training, evaluate the final model performance on the unseen testing set.\n",
        "Ensure the testing accuracy meets or exceeds the target of 88%.\n",
        "Additional Tips:\n",
        "\n",
        "Visualize the training and validation accuracy/loss curves to identify potential overfitting or underfitting issues.\n",
        "Consider data augmentation techniques to increase the size and diversity of your training data.\n",
        "Experiment with different learning rate schedules to optimize training speed and convergence.\n",
        "By following these steps and iteratively refining your model architecture and training process, you should be able to achieve a CNN model with at least 88% accuracy for your rice variety classification task. Remember to adapt and modify these instructions based on your specific dataset and hardware limitations."
      ],
      "metadata": {
        "id": "d2UP5K-pnkAw"
      }
    },
    {
      "cell_type": "markdown",
      "source": [
        "**1.1 Importing Required Libraries and Packages**"
      ],
      "metadata": {
        "id": "TCng1VvgcGan"
      }
    },
    {
      "cell_type": "code",
      "execution_count": 1,
      "metadata": {
        "id": "0HYFpIMCfJCZ"
      },
      "outputs": [],
      "source": [
        "import matplotlib.pyplot as plt\n",
        "import numpy as np\n",
        "import PIL\n",
        "import tensorflow as tf\n",
        "import sys\n",
        "import pandas as pd\n",
        "import keras\n",
        "import seaborn as sns\n",
        "import pickle\n",
        "import cv2 as cv\n",
        "\n",
        "from sklearn.svm import SVC\n",
        "from tensorflow import keras\n",
        "from tensorflow.keras import layers\n",
        "from tensorflow.keras.models import Sequential"
      ]
    },
    {
      "cell_type": "code",
      "source": [
        "from tensorflow.python.client import device_lib\n",
        "print(device_lib.list_local_devices())"
      ],
      "metadata": {
        "colab": {
          "base_uri": "https://localhost:8080/"
        },
        "id": "ln83T3fHjcFd",
        "outputId": "0fc7a1bc-f6a6-4b94-87c1-ef6c0b694301"
      },
      "execution_count": 2,
      "outputs": [
        {
          "output_type": "stream",
          "name": "stdout",
          "text": [
            "[name: \"/device:CPU:0\"\n",
            "device_type: \"CPU\"\n",
            "memory_limit: 268435456\n",
            "locality {\n",
            "}\n",
            "incarnation: 6589588431905377410\n",
            "xla_global_id: -1\n",
            ", name: \"/device:GPU:0\"\n",
            "device_type: \"GPU\"\n",
            "memory_limit: 14626652160\n",
            "locality {\n",
            "  bus_id: 1\n",
            "  links {\n",
            "  }\n",
            "}\n",
            "incarnation: 10638352408391095660\n",
            "physical_device_desc: \"device: 0, name: Tesla T4, pci bus id: 0000:00:04.0, compute capability: 7.5\"\n",
            "xla_global_id: 416903419\n",
            "]\n"
          ]
        }
      ]
    },
    {
      "cell_type": "code",
      "source": [
        "print(f\"TensorFlow Version: {tf.__version__}\")\n",
        "#print(f\"Keras Version: {keras.__version__}\")\n",
        "print()\n",
        "print(f\"Python Version: {sys.version}\")\n",
        "print(f\"Pandas Version: {pd.__version__}\")\n",
        "print(f\"Numpy Version: {np.__version__}\")\n",
        "print(f\"Seaborn Version: {sns.__version__}\")\n",
        "gpu = len(tf.config.list_physical_devices('GPU')) > 0\n",
        "print()\n",
        "print(\"GPU is\", \"PRESENT\" if gpu else \"NOT AVAILABLE\")\n",
        "print(\"Num GPUs Available: \", len(tf.config.list_physical_devices('GPU')))"
      ],
      "metadata": {
        "colab": {
          "base_uri": "https://localhost:8080/"
        },
        "id": "CTut1NNBjfIM",
        "outputId": "62137b2a-fc17-413e-efdc-540c8e45f304"
      },
      "execution_count": 3,
      "outputs": [
        {
          "output_type": "stream",
          "name": "stdout",
          "text": [
            "TensorFlow Version: 2.17.0\n",
            "\n",
            "Python Version: 3.10.12 (main, Jul 29 2024, 16:56:48) [GCC 11.4.0]\n",
            "Pandas Version: 2.1.4\n",
            "Numpy Version: 1.26.4\n",
            "Seaborn Version: 0.13.1\n",
            "\n",
            "GPU is PRESENT\n",
            "Num GPUs Available:  1\n"
          ]
        }
      ]
    },
    {
      "cell_type": "code",
      "source": [
        "!nvidia-smi"
      ],
      "metadata": {
        "colab": {
          "base_uri": "https://localhost:8080/"
        },
        "id": "fcNuAtXrjhkb",
        "outputId": "d3e92265-0687-4c7c-c231-d4104c38b842"
      },
      "execution_count": 4,
      "outputs": [
        {
          "output_type": "stream",
          "name": "stdout",
          "text": [
            "Mon Aug 26 02:05:11 2024       \n",
            "+---------------------------------------------------------------------------------------+\n",
            "| NVIDIA-SMI 535.104.05             Driver Version: 535.104.05   CUDA Version: 12.2     |\n",
            "|-----------------------------------------+----------------------+----------------------+\n",
            "| GPU  Name                 Persistence-M | Bus-Id        Disp.A | Volatile Uncorr. ECC |\n",
            "| Fan  Temp   Perf          Pwr:Usage/Cap |         Memory-Usage | GPU-Util  Compute M. |\n",
            "|                                         |                      |               MIG M. |\n",
            "|=========================================+======================+======================|\n",
            "|   0  Tesla T4                       Off | 00000000:00:04.0 Off |                    0 |\n",
            "| N/A   53C    P0              29W /  70W |    103MiB / 15360MiB |      0%      Default |\n",
            "|                                         |                      |                  N/A |\n",
            "+-----------------------------------------+----------------------+----------------------+\n",
            "                                                                                         \n",
            "+---------------------------------------------------------------------------------------+\n",
            "| Processes:                                                                            |\n",
            "|  GPU   GI   CI        PID   Type   Process name                            GPU Memory |\n",
            "|        ID   ID                                                             Usage      |\n",
            "|=======================================================================================|\n",
            "+---------------------------------------------------------------------------------------+\n"
          ]
        }
      ]
    },
    {
      "cell_type": "markdown",
      "source": [
        "**Load Dataset**"
      ],
      "metadata": {
        "id": "jQD4GNdVbkwa"
      }
    },
    {
      "cell_type": "code",
      "source": [
        "!uname -a"
      ],
      "metadata": {
        "colab": {
          "base_uri": "https://localhost:8080/"
        },
        "id": "cbiy4L55jkMx",
        "outputId": "7982e8b9-7d9f-4e1f-ebb0-85af5b9a3a16"
      },
      "execution_count": 6,
      "outputs": [
        {
          "output_type": "stream",
          "name": "stdout",
          "text": [
            "Linux bdd724bdcd78 6.1.85+ #1 SMP PREEMPT_DYNAMIC Thu Jun 27 21:05:47 UTC 2024 x86_64 x86_64 x86_64 GNU/Linux\n"
          ]
        }
      ]
    },
    {
      "cell_type": "markdown",
      "source": [
        "**1.2 Importing & Loading the Fruits360 Dataset**"
      ],
      "metadata": {
        "id": "m05L0HVvb_rz"
      }
    },
    {
      "cell_type": "markdown",
      "source": [
        "## Getting to know the dataset: Fruits 360\n",
        "\n",
        "The GitHub dataset used in this notebook is the [Fruits 360 dataset](https://github.com/fruits-360) (Version: 2020.05.18.0) which contains images of different fruits and vegetables.\n",
        "\n",
        "**Dataset License**: CC-BY-SA 4.0 license."
      ],
      "metadata": {
        "id": "qqa6DWF7l95a"
      }
    },
    {
      "cell_type": "markdown",
      "source": [
        "**Import Files**"
      ],
      "metadata": {
        "id": "1T5Zw7ieRyUR"
      }
    },
    {
      "cell_type": "code",
      "source": [
        "import os\n",
        "\n",
        "# Clone the repository\n",
        "os.system('git clone https://github.com/sallez9/SCTPAIMLcapstone.git')\n",
        "\n",
        "print(\"Dataset downloaded successfully!\")"
      ],
      "metadata": {
        "colab": {
          "base_uri": "https://localhost:8080/"
        },
        "id": "vJn5Dfpo4Gge",
        "outputId": "0bcf7637-355e-4483-f5d4-b9b75aa44686"
      },
      "execution_count": 11,
      "outputs": [
        {
          "output_type": "stream",
          "name": "stdout",
          "text": [
            "Dataset downloaded successfully!\n"
          ]
        }
      ]
    },
    {
      "cell_type": "markdown",
      "source": [
        "**Bulk Rename Files**"
      ],
      "metadata": {
        "id": "Nj8WqvnAYADs"
      }
    },
    {
      "cell_type": "markdown",
      "source": [
        "Renames all files in the specified folder by adding a prefix or suffix.\n",
        "    \n",
        "    Args:\n",
        "    - folder_path: The path to the folder containing files to be renamed.\n",
        "    - prefix: A string to add to the beginning of each filename.\n",
        "    - suffix: A string to add to the end of each filename (before the extension)"
      ],
      "metadata": {
        "id": "z5Lo4793SJrg"
      }
    },
    {
      "cell_type": "code",
      "execution_count": 12,
      "metadata": {
        "id": "mLCqJJbGP8db",
        "colab": {
          "base_uri": "https://localhost:8080/"
        },
        "outputId": "9e06b67a-5785-499e-c83e-d0ca6059bb3c"
      },
      "outputs": [
        {
          "output_type": "stream",
          "name": "stdout",
          "text": [
            "Renamed: hit_hit_r0_256.jpg -> hit_hit_hit_r0_256.jpg\n",
            "Renamed: hit_hit_r0_136.jpg -> hit_hit_hit_r0_136.jpg\n",
            "Renamed: hit_hit_r2_200.jpg -> hit_hit_hit_r2_200.jpg\n",
            "Renamed: hit_hit_r2_168.jpg -> hit_hit_hit_r2_168.jpg\n",
            "Renamed: hit_hit_r0_102.jpg -> hit_hit_hit_r0_102.jpg\n",
            "Renamed: hit_hit_r2_18.jpg -> hit_hit_hit_r2_18.jpg\n",
            "Renamed: hit_hit_r1_46.jpg -> hit_hit_hit_r1_46.jpg\n",
            "Renamed: hit_hit_r1_252.jpg -> hit_hit_hit_r1_252.jpg\n",
            "Renamed: hit_hit_r2_30.jpg -> hit_hit_hit_r2_30.jpg\n",
            "Renamed: hit_hit_r2_224.jpg -> hit_hit_hit_r2_224.jpg\n",
            "Renamed: hit_hit_r2_196.jpg -> hit_hit_hit_r2_196.jpg\n",
            "Renamed: hit_hit_r1_208.jpg -> hit_hit_hit_r1_208.jpg\n",
            "Renamed: hit_hit_r1_270.jpg -> hit_hit_hit_r1_270.jpg\n",
            "Renamed: hit_hit_r1_216.jpg -> hit_hit_hit_r1_216.jpg\n",
            "Renamed: hit_hit_r1_272.jpg -> hit_hit_hit_r1_272.jpg\n",
            "Renamed: hit_hit_r0_258.jpg -> hit_hit_hit_r0_258.jpg\n",
            "Renamed: hit_hit_r1_146.jpg -> hit_hit_hit_r1_146.jpg\n",
            "Renamed: hit_hit_r1_26.jpg -> hit_hit_hit_r1_26.jpg\n",
            "Renamed: hit_hit_r0_270.jpg -> hit_hit_hit_r0_270.jpg\n",
            "Renamed: hit_hit_r2_104.jpg -> hit_hit_hit_r2_104.jpg\n",
            "Renamed: hit_hit_r2_264.jpg -> hit_hit_hit_r2_264.jpg\n",
            "Renamed: hit_hit_r1_90.jpg -> hit_hit_hit_r1_90.jpg\n",
            "Renamed: hit_hit_r1_150.jpg -> hit_hit_hit_r1_150.jpg\n",
            "Renamed: hit_hit_r1_194.jpg -> hit_hit_hit_r1_194.jpg\n",
            "Renamed: hit_hit_r0_240.jpg -> hit_hit_hit_r0_240.jpg\n",
            "Renamed: hit_hit_r0_150.jpg -> hit_hit_hit_r0_150.jpg\n",
            "Renamed: hit_hit_r2_102.jpg -> hit_hit_hit_r2_102.jpg\n",
            "Renamed: hit_hit_r0_204.jpg -> hit_hit_hit_r0_204.jpg\n",
            "Renamed: hit_hit_r0_108.jpg -> hit_hit_hit_r0_108.jpg\n",
            "Renamed: hit_hit_r1_96.jpg -> hit_hit_hit_r1_96.jpg\n",
            "Renamed: hit_hit_r0_172.jpg -> hit_hit_hit_r0_172.jpg\n",
            "Renamed: hit_hit_r2_178.jpg -> hit_hit_hit_r2_178.jpg\n",
            "Renamed: hit_hit_r0_74.jpg -> hit_hit_hit_r0_74.jpg\n",
            "Renamed: hit_hit_r1_298.jpg -> hit_hit_hit_r1_298.jpg\n",
            "Renamed: hit_hit_r0_268.jpg -> hit_hit_hit_r0_268.jpg\n",
            "Renamed: hit_hit_r0_28.jpg -> hit_hit_hit_r0_28.jpg\n",
            "Renamed: hit_hit_r1_246.jpg -> hit_hit_hit_r1_246.jpg\n",
            "Renamed: hit_hit_r2_98.jpg -> hit_hit_hit_r2_98.jpg\n",
            "Renamed: hit_hit_r1_300.jpg -> hit_hit_hit_r1_300.jpg\n",
            "Renamed: hit_hit_r0_298.jpg -> hit_hit_hit_r0_298.jpg\n",
            "Renamed: hit_hit_r1_152.jpg -> hit_hit_hit_r1_152.jpg\n",
            "Renamed: hit_hit_r0_90.jpg -> hit_hit_hit_r0_90.jpg\n",
            "Renamed: hit_hit_r1_94.jpg -> hit_hit_hit_r1_94.jpg\n",
            "Renamed: hit_hit_r0_160.jpg -> hit_hit_hit_r0_160.jpg\n",
            "Renamed: hit_hit_r1_210.jpg -> hit_hit_hit_r1_210.jpg\n",
            "Renamed: hit_hit_r0_148.jpg -> hit_hit_hit_r0_148.jpg\n",
            "Renamed: hit_hit_r0_58.jpg -> hit_hit_hit_r0_58.jpg\n",
            "Renamed: hit_hit_r1_82.jpg -> hit_hit_hit_r1_82.jpg\n",
            "Renamed: hit_hit_r0_132.jpg -> hit_hit_hit_r0_132.jpg\n",
            "Renamed: hit_hit_r0_214.jpg -> hit_hit_hit_r0_214.jpg\n",
            "Renamed: hit_hit_r2_222.jpg -> hit_hit_hit_r2_222.jpg\n",
            "Renamed: hit_hit_r1_200.jpg -> hit_hit_hit_r1_200.jpg\n",
            "Renamed: hit_hit_r0_38.jpg -> hit_hit_hit_r0_38.jpg\n",
            "Renamed: hit_hit_r0_30.jpg -> hit_hit_hit_r0_30.jpg\n",
            "Renamed: hit_hit_r1_126.jpg -> hit_hit_hit_r1_126.jpg\n",
            "Renamed: hit_hit_r0_86.jpg -> hit_hit_hit_r0_86.jpg\n",
            "Renamed: hit_hit_r1_302.jpg -> hit_hit_hit_r1_302.jpg\n",
            "Renamed: hit_hit_r0_146.jpg -> hit_hit_hit_r0_146.jpg\n",
            "Renamed: hit_hit_r0_88.jpg -> hit_hit_hit_r0_88.jpg\n",
            "Renamed: hit_hit_r1_78.jpg -> hit_hit_hit_r1_78.jpg\n",
            "Renamed: hit_hit_r0_8.jpg -> hit_hit_hit_r0_8.jpg\n",
            "Renamed: hit_hit_r0_296.jpg -> hit_hit_hit_r0_296.jpg\n",
            "Renamed: hit_hit_r2_186.jpg -> hit_hit_hit_r2_186.jpg\n",
            "Renamed: hit_hit_r1_154.jpg -> hit_hit_hit_r1_154.jpg\n",
            "Renamed: hit_hit_r2_114.jpg -> hit_hit_hit_r2_114.jpg\n",
            "Renamed: hit_hit_r0_310.jpg -> hit_hit_hit_r0_310.jpg\n",
            "Renamed: hit_hit_r0_24.jpg -> hit_hit_hit_r0_24.jpg\n",
            "Renamed: hit_hit_r1_136.jpg -> hit_hit_hit_r1_136.jpg\n",
            "Renamed: hit_hit_r0_304.jpg -> hit_hit_hit_r0_304.jpg\n",
            "Renamed: hit_hit_r2_230.jpg -> hit_hit_hit_r2_230.jpg\n",
            "Renamed: hit_hit_r2_146.jpg -> hit_hit_hit_r2_146.jpg\n",
            "Renamed: hit_hit_r1_30.jpg -> hit_hit_hit_r1_30.jpg\n",
            "Renamed: hit_hit_r1_228.jpg -> hit_hit_hit_r1_228.jpg\n",
            "Renamed: hit_hit_r1_142.jpg -> hit_hit_hit_r1_142.jpg\n",
            "Renamed: hit_hit_r2_256.jpg -> hit_hit_hit_r2_256.jpg\n",
            "Renamed: hit_hit_r1_218.jpg -> hit_hit_hit_r1_218.jpg\n",
            "Renamed: hit_hit_r0_244.jpg -> hit_hit_hit_r0_244.jpg\n",
            "Renamed: hit_hit_r0_82.jpg -> hit_hit_hit_r0_82.jpg\n",
            "Renamed: hit_hit_r1_12.jpg -> hit_hit_hit_r1_12.jpg\n",
            "Renamed: hit_hit_r2_62.jpg -> hit_hit_hit_r2_62.jpg\n",
            "Renamed: hit_hit_r1_198.jpg -> hit_hit_hit_r1_198.jpg\n",
            "Renamed: hit_hit_r2_130.jpg -> hit_hit_hit_r2_130.jpg\n",
            "Renamed: hit_hit_r1_140.jpg -> hit_hit_hit_r1_140.jpg\n",
            "Renamed: hit_hit_r2_26.jpg -> hit_hit_hit_r2_26.jpg\n",
            "Renamed: hit_hit_r1_100.jpg -> hit_hit_hit_r1_100.jpg\n",
            "Renamed: hit_hit_r0_44.jpg -> hit_hit_hit_r0_44.jpg\n",
            "Renamed: hit_hit_r2_258.jpg -> hit_hit_hit_r2_258.jpg\n",
            "Renamed: hit_hit_r2_0.jpg -> hit_hit_hit_r2_0.jpg\n",
            "Renamed: hit_hit_r1_292.jpg -> hit_hit_hit_r1_292.jpg\n",
            "Renamed: hit_hit_r0_124.jpg -> hit_hit_hit_r0_124.jpg\n",
            "Renamed: hit_hit_r2_68.jpg -> hit_hit_hit_r2_68.jpg\n",
            "Renamed: hit_hit_r1_184.jpg -> hit_hit_hit_r1_184.jpg\n",
            "Renamed: hit_hit_r1_264.jpg -> hit_hit_hit_r1_264.jpg\n",
            "Renamed: hit_hit_r2_210.jpg -> hit_hit_hit_r2_210.jpg\n",
            "Renamed: hit_hit_r2_304.jpg -> hit_hit_hit_r2_304.jpg\n",
            "Renamed: hit_hit_r0_260.jpg -> hit_hit_hit_r0_260.jpg\n",
            "Renamed: hit_hit_r2_34.jpg -> hit_hit_hit_r2_34.jpg\n",
            "Renamed: hit_hit_r2_160.jpg -> hit_hit_hit_r2_160.jpg\n",
            "Renamed: hit_hit_r0_222.jpg -> hit_hit_hit_r0_222.jpg\n",
            "Renamed: hit_hit_r0_40.jpg -> hit_hit_hit_r0_40.jpg\n",
            "Renamed: hit_hit_r0_128.jpg -> hit_hit_hit_r0_128.jpg\n",
            "Renamed: hit_hit_r2_110.jpg -> hit_hit_hit_r2_110.jpg\n",
            "Renamed: hit_hit_r2_250.jpg -> hit_hit_hit_r2_250.jpg\n",
            "Renamed: hit_hit_r0_60.jpg -> hit_hit_hit_r0_60.jpg\n",
            "Renamed: hit_hit_r1_118.jpg -> hit_hit_hit_r1_118.jpg\n",
            "Renamed: hit_hit_r2_50.jpg -> hit_hit_hit_r2_50.jpg\n",
            "Renamed: hit_hit_r2_40.jpg -> hit_hit_hit_r2_40.jpg\n",
            "Renamed: hit_hit_r1_158.jpg -> hit_hit_hit_r1_158.jpg\n",
            "Renamed: hit_hit_r0_16.jpg -> hit_hit_hit_r0_16.jpg\n",
            "Renamed: hit_hit_r0_162.jpg -> hit_hit_hit_r0_162.jpg\n",
            "Renamed: hit_hit_r2_190.jpg -> hit_hit_hit_r2_190.jpg\n",
            "Renamed: hit_hit_r1_86.jpg -> hit_hit_hit_r1_86.jpg\n",
            "Renamed: hit_hit_r0_120.jpg -> hit_hit_hit_r0_120.jpg\n",
            "Renamed: hit_hit_r1_174.jpg -> hit_hit_hit_r1_174.jpg\n",
            "Renamed: hit_hit_r1_230.jpg -> hit_hit_hit_r1_230.jpg\n",
            "Renamed: hit_hit_r0_98.jpg -> hit_hit_hit_r0_98.jpg\n",
            "Renamed: hit_hit_r1_48.jpg -> hit_hit_hit_r1_48.jpg\n",
            "Renamed: hit_hit_r0_144.jpg -> hit_hit_hit_r0_144.jpg\n",
            "Renamed: hit_hit_r2_4.jpg -> hit_hit_hit_r2_4.jpg\n",
            "Renamed: hit_hit_r1_0.jpg -> hit_hit_hit_r1_0.jpg\n",
            "Renamed: hit_hit_r1_290.jpg -> hit_hit_hit_r1_290.jpg\n",
            "Renamed: hit_hit_r2_180.jpg -> hit_hit_hit_r2_180.jpg\n",
            "Renamed: hit_hit_r2_212.jpg -> hit_hit_hit_r2_212.jpg\n",
            "Renamed: hit_hit_r1_84.jpg -> hit_hit_hit_r1_84.jpg\n",
            "Renamed: hit_hit_r0_264.jpg -> hit_hit_hit_r0_264.jpg\n",
            "Renamed: hit_hit_r2_208.jpg -> hit_hit_hit_r2_208.jpg\n",
            "Renamed: hit_hit_r0_134.jpg -> hit_hit_hit_r0_134.jpg\n",
            "Renamed: hit_hit_r2_220.jpg -> hit_hit_hit_r2_220.jpg\n",
            "Renamed: hit_hit_r2_266.jpg -> hit_hit_hit_r2_266.jpg\n",
            "Renamed: hit_hit_r0_292.jpg -> hit_hit_hit_r0_292.jpg\n",
            "Renamed: hit_hit_r2_282.jpg -> hit_hit_hit_r2_282.jpg\n",
            "Renamed: hit_hit_r0_192.jpg -> hit_hit_hit_r0_192.jpg\n",
            "Renamed: hit_hit_r2_38.jpg -> hit_hit_hit_r2_38.jpg\n",
            "Renamed: hit_hit_r1_4.jpg -> hit_hit_hit_r1_4.jpg\n",
            "Renamed: hit_hit_r2_202.jpg -> hit_hit_hit_r2_202.jpg\n",
            "Renamed: hit_hit_r2_156.jpg -> hit_hit_hit_r2_156.jpg\n",
            "Renamed: hit_hit_r2_10.jpg -> hit_hit_hit_r2_10.jpg\n",
            "Renamed: hit_hit_r1_262.jpg -> hit_hit_hit_r1_262.jpg\n",
            "Renamed: hit_hit_r0_288.jpg -> hit_hit_hit_r0_288.jpg\n",
            "Renamed: hit_hit_r1_304.jpg -> hit_hit_hit_r1_304.jpg\n",
            "Renamed: hit_hit_r2_198.jpg -> hit_hit_hit_r2_198.jpg\n",
            "Renamed: hit_hit_r0_200.jpg -> hit_hit_hit_r0_200.jpg\n",
            "Renamed: hit_hit_r0_176.jpg -> hit_hit_hit_r0_176.jpg\n",
            "Renamed: hit_hit_r0_100.jpg -> hit_hit_hit_r0_100.jpg\n",
            "Renamed: hit_hit_r1_192.jpg -> hit_hit_hit_r1_192.jpg\n",
            "Renamed: hit_hit_r1_58.jpg -> hit_hit_hit_r1_58.jpg\n",
            "Renamed: hit_hit_r2_278.jpg -> hit_hit_hit_r2_278.jpg\n",
            "Renamed: hit_hit_r2_80.jpg -> hit_hit_hit_r2_80.jpg\n",
            "Renamed: hit_hit_r1_22.jpg -> hit_hit_hit_r1_22.jpg\n",
            "Renamed: hit_hit_r2_28.jpg -> hit_hit_hit_r2_28.jpg\n",
            "Renamed: hit_hit_r1_276.jpg -> hit_hit_hit_r1_276.jpg\n",
            "Renamed: hit_hit_r0_166.jpg -> hit_hit_hit_r0_166.jpg\n",
            "Renamed: hit_hit_r2_286.jpg -> hit_hit_hit_r2_286.jpg\n",
            "Renamed: hit_hit_r1_14.jpg -> hit_hit_hit_r1_14.jpg\n",
            "Renamed: hit_hit_r0_106.jpg -> hit_hit_hit_r0_106.jpg\n",
            "Renamed: hit_hit_r1_40.jpg -> hit_hit_hit_r1_40.jpg\n",
            "Renamed: hit_hit_r2_96.jpg -> hit_hit_hit_r2_96.jpg\n",
            "Renamed: hit_hit_r2_240.jpg -> hit_hit_hit_r2_240.jpg\n",
            "Renamed: hit_hit_r0_78.jpg -> hit_hit_hit_r0_78.jpg\n",
            "Renamed: hit_hit_r0_22.jpg -> hit_hit_hit_r0_22.jpg\n",
            "Renamed: hit_hit_r0_242.jpg -> hit_hit_hit_r0_242.jpg\n",
            "Renamed: hit_hit_r1_92.jpg -> hit_hit_hit_r1_92.jpg\n",
            "Renamed: hit_hit_r2_194.jpg -> hit_hit_hit_r2_194.jpg\n",
            "Renamed: hit_hit_r1_108.jpg -> hit_hit_hit_r1_108.jpg\n",
            "Renamed: hit_hit_r1_6.jpg -> hit_hit_hit_r1_6.jpg\n",
            "Renamed: hit_hit_r2_296.jpg -> hit_hit_hit_r2_296.jpg\n",
            "Renamed: hit_hit_r2_176.jpg -> hit_hit_hit_r2_176.jpg\n",
            "Renamed: hit_hit_r2_124.jpg -> hit_hit_hit_r2_124.jpg\n",
            "Renamed: hit_hit_r1_120.jpg -> hit_hit_hit_r1_120.jpg\n",
            "Renamed: hit_hit_r2_152.jpg -> hit_hit_hit_r2_152.jpg\n",
            "Renamed: hit_hit_r1_66.jpg -> hit_hit_hit_r1_66.jpg\n",
            "Renamed: hit_hit_r0_50.jpg -> hit_hit_hit_r0_50.jpg\n",
            "Renamed: hit_hit_r2_144.jpg -> hit_hit_hit_r2_144.jpg\n",
            "Renamed: hit_hit_r1_122.jpg -> hit_hit_hit_r1_122.jpg\n",
            "Renamed: hit_hit_r0_52.jpg -> hit_hit_hit_r0_52.jpg\n",
            "Renamed: hit_hit_r2_78.jpg -> hit_hit_hit_r2_78.jpg\n",
            "Renamed: hit_hit_r1_156.jpg -> hit_hit_hit_r1_156.jpg\n",
            "Renamed: hit_hit_r0_266.jpg -> hit_hit_hit_r0_266.jpg\n",
            "Renamed: hit_hit_r1_128.jpg -> hit_hit_hit_r1_128.jpg\n",
            "Renamed: hit_hit_r0_184.jpg -> hit_hit_hit_r0_184.jpg\n",
            "Renamed: hit_hit_r0_252.jpg -> hit_hit_hit_r0_252.jpg\n",
            "Renamed: hit_hit_r1_10.jpg -> hit_hit_hit_r1_10.jpg\n",
            "Renamed: hit_hit_r0_314.jpg -> hit_hit_hit_r0_314.jpg\n",
            "Renamed: hit_hit_r0_236.jpg -> hit_hit_hit_r0_236.jpg\n",
            "Renamed: hit_hit_r0_226.jpg -> hit_hit_hit_r0_226.jpg\n",
            "Renamed: hit_hit_r2_126.jpg -> hit_hit_hit_r2_126.jpg\n",
            "Renamed: hit_hit_r0_140.jpg -> hit_hit_hit_r0_140.jpg\n",
            "Renamed: hit_hit_r1_274.jpg -> hit_hit_hit_r1_274.jpg\n",
            "Renamed: hit_hit_r2_90.jpg -> hit_hit_hit_r2_90.jpg\n",
            "Renamed: hit_hit_r2_6.jpg -> hit_hit_hit_r2_6.jpg\n",
            "Renamed: hit_hit_r1_248.jpg -> hit_hit_hit_r1_248.jpg\n",
            "Renamed: hit_hit_r1_2.jpg -> hit_hit_hit_r1_2.jpg\n",
            "Renamed: hit_hit_r2_118.jpg -> hit_hit_hit_r2_118.jpg\n",
            "Renamed: hit_hit_r1_36.jpg -> hit_hit_hit_r1_36.jpg\n",
            "Renamed: hit_hit_r0_174.jpg -> hit_hit_hit_r0_174.jpg\n",
            "Renamed: hit_hit_r2_52.jpg -> hit_hit_hit_r2_52.jpg\n",
            "Renamed: hit_hit_r2_244.jpg -> hit_hit_hit_r2_244.jpg\n",
            "Renamed: hit_hit_r2_170.jpg -> hit_hit_hit_r2_170.jpg\n",
            "Renamed: hit_hit_r1_110.jpg -> hit_hit_hit_r1_110.jpg\n",
            "Renamed: hit_hit_r1_134.jpg -> hit_hit_hit_r1_134.jpg\n",
            "Renamed: hit_hit_r2_16.jpg -> hit_hit_hit_r2_16.jpg\n",
            "Renamed: hit_hit_r2_36.jpg -> hit_hit_hit_r2_36.jpg\n",
            "Renamed: hit_hit_r2_8.jpg -> hit_hit_hit_r2_8.jpg\n",
            "Renamed: hit_hit_r2_276.jpg -> hit_hit_hit_r2_276.jpg\n",
            "Renamed: hit_hit_r1_240.jpg -> hit_hit_hit_r1_240.jpg\n",
            "Renamed: hit_hit_r0_32.jpg -> hit_hit_hit_r0_32.jpg\n",
            "Renamed: hit_hit_r1_56.jpg -> hit_hit_hit_r1_56.jpg\n",
            "Renamed: hit_hit_r1_98.jpg -> hit_hit_hit_r1_98.jpg\n",
            "Renamed: hit_hit_r0_80.jpg -> hit_hit_hit_r0_80.jpg\n",
            "Renamed: hit_hit_r0_126.jpg -> hit_hit_hit_r0_126.jpg\n",
            "Renamed: hit_hit_r1_106.jpg -> hit_hit_hit_r1_106.jpg\n",
            "Renamed: hit_hit_r1_60.jpg -> hit_hit_hit_r1_60.jpg\n",
            "Renamed: hit_hit_r1_256.jpg -> hit_hit_hit_r1_256.jpg\n",
            "Renamed: hit_hit_r0_254.jpg -> hit_hit_hit_r0_254.jpg\n",
            "Renamed: hit_hit_r0_168.jpg -> hit_hit_hit_r0_168.jpg\n",
            "Renamed: hit_hit_r0_284.jpg -> hit_hit_hit_r0_284.jpg\n",
            "Renamed: hit_hit_r0_294.jpg -> hit_hit_hit_r0_294.jpg\n",
            "Renamed: hit_hit_r2_128.jpg -> hit_hit_hit_r2_128.jpg\n",
            "Renamed: hit_hit_r2_44.jpg -> hit_hit_hit_r2_44.jpg\n",
            "Renamed: hit_hit_r0_246.jpg -> hit_hit_hit_r0_246.jpg\n",
            "Renamed: hit_hit_r1_64.jpg -> hit_hit_hit_r1_64.jpg\n",
            "Renamed: hit_hit_r0_14.jpg -> hit_hit_hit_r0_14.jpg\n",
            "Renamed: hit_hit_r1_226.jpg -> hit_hit_hit_r1_226.jpg\n",
            "Renamed: hit_hit_r1_294.jpg -> hit_hit_hit_r1_294.jpg\n",
            "Renamed: hit_hit_r0_92.jpg -> hit_hit_hit_r0_92.jpg\n",
            "Renamed: hit_hit_r0_114.jpg -> hit_hit_hit_r0_114.jpg\n",
            "Renamed: hit_hit_r2_268.jpg -> hit_hit_hit_r2_268.jpg\n",
            "Renamed: hit_hit_r1_70.jpg -> hit_hit_hit_r1_70.jpg\n",
            "Renamed: hit_hit_r1_296.jpg -> hit_hit_hit_r1_296.jpg\n",
            "Renamed: hit_hit_r2_300.jpg -> hit_hit_hit_r2_300.jpg\n",
            "Renamed: hit_hit_r0_232.jpg -> hit_hit_hit_r0_232.jpg\n",
            "Renamed: hit_hit_r0_20.jpg -> hit_hit_hit_r0_20.jpg\n",
            "Renamed: hit_hit_r2_302.jpg -> hit_hit_hit_r2_302.jpg\n",
            "Renamed: hit_hit_r2_42.jpg -> hit_hit_hit_r2_42.jpg\n",
            "Renamed: hit_hit_r1_254.jpg -> hit_hit_hit_r1_254.jpg\n",
            "Renamed: hit_hit_r0_84.jpg -> hit_hit_hit_r0_84.jpg\n",
            "Renamed: hit_hit_r1_288.jpg -> hit_hit_hit_r1_288.jpg\n",
            "Renamed: hit_hit_r2_246.jpg -> hit_hit_hit_r2_246.jpg\n",
            "Renamed: hit_hit_r0_112.jpg -> hit_hit_hit_r0_112.jpg\n",
            "Renamed: hit_hit_r1_180.jpg -> hit_hit_hit_r1_180.jpg\n",
            "Renamed: hit_hit_r0_6.jpg -> hit_hit_hit_r0_6.jpg\n",
            "Renamed: hit_hit_r1_172.jpg -> hit_hit_hit_r1_172.jpg\n",
            "Renamed: hit_hit_r2_150.jpg -> hit_hit_hit_r2_150.jpg\n",
            "Renamed: hit_hit_r1_52.jpg -> hit_hit_hit_r1_52.jpg\n",
            "Renamed: hit_hit_r0_46.jpg -> hit_hit_hit_r0_46.jpg\n",
            "Renamed: hit_hit_r2_2.jpg -> hit_hit_hit_r2_2.jpg\n",
            "Renamed: hit_hit_r1_176.jpg -> hit_hit_hit_r1_176.jpg\n",
            "Renamed: hit_hit_r1_160.jpg -> hit_hit_hit_r1_160.jpg\n",
            "Renamed: hit_hit_r0_216.jpg -> hit_hit_hit_r0_216.jpg\n",
            "Renamed: hit_hit_r2_234.jpg -> hit_hit_hit_r2_234.jpg\n",
            "Renamed: hit_hit_r0_158.jpg -> hit_hit_hit_r0_158.jpg\n",
            "Renamed: hit_hit_r0_42.jpg -> hit_hit_hit_r0_42.jpg\n",
            "Renamed: hit_hit_r1_244.jpg -> hit_hit_hit_r1_244.jpg\n",
            "Renamed: hit_hit_r2_262.jpg -> hit_hit_hit_r2_262.jpg\n",
            "Renamed: hit_hit_r0_182.jpg -> hit_hit_hit_r0_182.jpg\n",
            "Renamed: hit_hit_r1_144.jpg -> hit_hit_hit_r1_144.jpg\n",
            "Renamed: hit_hit_r0_276.jpg -> hit_hit_hit_r0_276.jpg\n",
            "Renamed: hit_hit_r2_270.jpg -> hit_hit_hit_r2_270.jpg\n",
            "Renamed: hit_hit_r0_250.jpg -> hit_hit_hit_r0_250.jpg\n",
            "Renamed: hit_hit_r2_66.jpg -> hit_hit_hit_r2_66.jpg\n",
            "Renamed: hit_hit_r2_60.jpg -> hit_hit_hit_r2_60.jpg\n",
            "Renamed: hit_hit_r2_106.jpg -> hit_hit_hit_r2_106.jpg\n",
            "Renamed: hit_hit_r0_18.jpg -> hit_hit_hit_r0_18.jpg\n",
            "Renamed: hit_hit_r0_272.jpg -> hit_hit_hit_r0_272.jpg\n",
            "Renamed: hit_hit_r1_242.jpg -> hit_hit_hit_r1_242.jpg\n",
            "Renamed: hit_hit_r1_74.jpg -> hit_hit_hit_r1_74.jpg\n",
            "Renamed: hit_hit_r2_84.jpg -> hit_hit_hit_r2_84.jpg\n",
            "Renamed: hit_hit_r1_116.jpg -> hit_hit_hit_r1_116.jpg\n",
            "Renamed: hit_hit_r2_174.jpg -> hit_hit_hit_r2_174.jpg\n",
            "Renamed: hit_hit_r2_74.jpg -> hit_hit_hit_r2_74.jpg\n",
            "Renamed: hit_hit_r1_18.jpg -> hit_hit_hit_r1_18.jpg\n",
            "Renamed: hit_hit_r0_154.jpg -> hit_hit_hit_r0_154.jpg\n",
            "Renamed: hit_hit_r1_212.jpg -> hit_hit_hit_r1_212.jpg\n",
            "Renamed: hit_hit_r1_102.jpg -> hit_hit_hit_r1_102.jpg\n",
            "Renamed: hit_hit_r0_220.jpg -> hit_hit_hit_r0_220.jpg\n",
            "Renamed: hit_hit_r0_198.jpg -> hit_hit_hit_r0_198.jpg\n",
            "Renamed: hit_hit_r0_316.jpg -> hit_hit_hit_r0_316.jpg\n",
            "Renamed: hit_hit_r2_218.jpg -> hit_hit_hit_r2_218.jpg\n",
            "Renamed: hit_hit_r1_266.jpg -> hit_hit_hit_r1_266.jpg\n",
            "Renamed: hit_hit_r0_4.jpg -> hit_hit_hit_r0_4.jpg\n",
            "Renamed: hit_hit_r0_196.jpg -> hit_hit_hit_r0_196.jpg\n",
            "Renamed: hit_hit_r2_254.jpg -> hit_hit_hit_r2_254.jpg\n",
            "Renamed: hit_hit_r1_278.jpg -> hit_hit_hit_r1_278.jpg\n",
            "Renamed: hit_hit_r2_88.jpg -> hit_hit_hit_r2_88.jpg\n",
            "Renamed: hit_hit_r1_232.jpg -> hit_hit_hit_r1_232.jpg\n",
            "Renamed: hit_hit_r0_76.jpg -> hit_hit_hit_r0_76.jpg\n",
            "Renamed: hit_hit_r2_58.jpg -> hit_hit_hit_r2_58.jpg\n",
            "Renamed: hit_hit_r1_34.jpg -> hit_hit_hit_r1_34.jpg\n",
            "Renamed: hit_hit_r1_214.jpg -> hit_hit_hit_r1_214.jpg\n",
            "Renamed: hit_hit_r1_104.jpg -> hit_hit_hit_r1_104.jpg\n",
            "Renamed: hit_hit_r1_190.jpg -> hit_hit_hit_r1_190.jpg\n",
            "Renamed: hit_hit_r1_166.jpg -> hit_hit_hit_r1_166.jpg\n",
            "Renamed: hit_hit_r2_92.jpg -> hit_hit_hit_r2_92.jpg\n",
            "Renamed: hit_hit_r2_182.jpg -> hit_hit_hit_r2_182.jpg\n",
            "Renamed: hit_hit_r1_164.jpg -> hit_hit_hit_r1_164.jpg\n",
            "Renamed: hit_hit_r1_306.jpg -> hit_hit_hit_r1_306.jpg\n",
            "Renamed: hit_hit_r2_140.jpg -> hit_hit_hit_r2_140.jpg\n",
            "Renamed: hit_hit_r0_302.jpg -> hit_hit_hit_r0_302.jpg\n",
            "Renamed: hit_hit_r2_248.jpg -> hit_hit_hit_r2_248.jpg\n",
            "Renamed: hit_hit_r0_116.jpg -> hit_hit_hit_r0_116.jpg\n",
            "Renamed: hit_hit_r2_112.jpg -> hit_hit_hit_r2_112.jpg\n",
            "Renamed: hit_hit_r1_196.jpg -> hit_hit_hit_r1_196.jpg\n",
            "Renamed: hit_hit_r0_262.jpg -> hit_hit_hit_r0_262.jpg\n",
            "Renamed: hit_hit_r0_194.jpg -> hit_hit_hit_r0_194.jpg\n",
            "Renamed: hit_hit_r2_298.jpg -> hit_hit_hit_r2_298.jpg\n",
            "Renamed: hit_hit_r0_238.jpg -> hit_hit_hit_r0_238.jpg\n",
            "Renamed: hit_hit_r2_206.jpg -> hit_hit_hit_r2_206.jpg\n",
            "Renamed: hit_hit_r0_122.jpg -> hit_hit_hit_r0_122.jpg\n",
            "Renamed: hit_hit_r2_132.jpg -> hit_hit_hit_r2_132.jpg\n",
            "Renamed: hit_hit_r2_64.jpg -> hit_hit_hit_r2_64.jpg\n",
            "Renamed: hit_hit_r2_76.jpg -> hit_hit_hit_r2_76.jpg\n",
            "Renamed: hit_hit_r0_12.jpg -> hit_hit_hit_r0_12.jpg\n",
            "Renamed: hit_hit_r1_72.jpg -> hit_hit_hit_r1_72.jpg\n",
            "Renamed: hit_hit_r1_42.jpg -> hit_hit_hit_r1_42.jpg\n",
            "Renamed: hit_hit_r0_34.jpg -> hit_hit_hit_r0_34.jpg\n",
            "Renamed: hit_hit_r0_306.jpg -> hit_hit_hit_r0_306.jpg\n",
            "Renamed: hit_hit_r1_148.jpg -> hit_hit_hit_r1_148.jpg\n",
            "Renamed: hit_hit_r0_36.jpg -> hit_hit_hit_r0_36.jpg\n",
            "Renamed: hit_hit_r2_20.jpg -> hit_hit_hit_r2_20.jpg\n",
            "Renamed: hit_hit_r0_312.jpg -> hit_hit_hit_r0_312.jpg\n",
            "Renamed: hit_hit_r0_228.jpg -> hit_hit_hit_r0_228.jpg\n",
            "Renamed: hit_hit_r0_190.jpg -> hit_hit_hit_r0_190.jpg\n",
            "Renamed: hit_hit_r1_286.jpg -> hit_hit_hit_r1_286.jpg\n",
            "Renamed: hit_hit_r2_204.jpg -> hit_hit_hit_r2_204.jpg\n",
            "Renamed: hit_hit_r0_180.jpg -> hit_hit_hit_r0_180.jpg\n",
            "Renamed: hit_hit_r2_280.jpg -> hit_hit_hit_r2_280.jpg\n",
            "Renamed: hit_hit_r2_192.jpg -> hit_hit_hit_r2_192.jpg\n",
            "Renamed: hit_hit_r2_292.jpg -> hit_hit_hit_r2_292.jpg\n",
            "Renamed: hit_hit_r1_238.jpg -> hit_hit_hit_r1_238.jpg\n",
            "Renamed: hit_hit_r1_28.jpg -> hit_hit_hit_r1_28.jpg\n",
            "Renamed: hit_hit_r1_38.jpg -> hit_hit_hit_r1_38.jpg\n",
            "Renamed: hit_hit_r1_224.jpg -> hit_hit_hit_r1_224.jpg\n",
            "Renamed: hit_hit_r1_234.jpg -> hit_hit_hit_r1_234.jpg\n",
            "Renamed: hit_hit_r1_236.jpg -> hit_hit_hit_r1_236.jpg\n",
            "Renamed: hit_hit_r1_258.jpg -> hit_hit_hit_r1_258.jpg\n",
            "Renamed: hit_hit_r0_118.jpg -> hit_hit_hit_r0_118.jpg\n",
            "Renamed: hit_hit_r0_142.jpg -> hit_hit_hit_r0_142.jpg\n",
            "Renamed: hit_hit_r2_166.jpg -> hit_hit_hit_r2_166.jpg\n",
            "Renamed: hit_hit_r0_70.jpg -> hit_hit_hit_r0_70.jpg\n",
            "Renamed: hit_hit_r0_48.jpg -> hit_hit_hit_r0_48.jpg\n",
            "Renamed: hit_hit_r2_148.jpg -> hit_hit_hit_r2_148.jpg\n",
            "Renamed: hit_hit_r1_114.jpg -> hit_hit_hit_r1_114.jpg\n",
            "Renamed: hit_hit_r1_260.jpg -> hit_hit_hit_r1_260.jpg\n",
            "Renamed: hit_hit_r2_214.jpg -> hit_hit_hit_r2_214.jpg\n",
            "Renamed: hit_hit_r0_210.jpg -> hit_hit_hit_r0_210.jpg\n",
            "Renamed: hit_hit_r0_56.jpg -> hit_hit_hit_r0_56.jpg\n",
            "Renamed: hit_hit_r1_250.jpg -> hit_hit_hit_r1_250.jpg\n",
            "Renamed: hit_hit_r1_280.jpg -> hit_hit_hit_r1_280.jpg\n",
            "Renamed: hit_hit_r1_32.jpg -> hit_hit_hit_r1_32.jpg\n",
            "Renamed: hit_hit_r2_228.jpg -> hit_hit_hit_r2_228.jpg\n",
            "Renamed: hit_hit_r2_108.jpg -> hit_hit_hit_r2_108.jpg\n",
            "Renamed: hit_hit_r2_56.jpg -> hit_hit_hit_r2_56.jpg\n",
            "Renamed: hit_hit_r1_62.jpg -> hit_hit_hit_r1_62.jpg\n",
            "Renamed: hit_hit_r1_186.jpg -> hit_hit_hit_r1_186.jpg\n",
            "Renamed: hit_hit_r1_206.jpg -> hit_hit_hit_r1_206.jpg\n",
            "Renamed: hit_hit_r1_220.jpg -> hit_hit_hit_r1_220.jpg\n",
            "Renamed: hit_hit_r1_50.jpg -> hit_hit_hit_r1_50.jpg\n",
            "Renamed: hit_hit_r2_236.jpg -> hit_hit_hit_r2_236.jpg\n",
            "Renamed: hit_hit_r2_24.jpg -> hit_hit_hit_r2_24.jpg\n",
            "Renamed: hit_hit_r0_54.jpg -> hit_hit_hit_r0_54.jpg\n",
            "Renamed: hit_hit_r0_206.jpg -> hit_hit_hit_r0_206.jpg\n",
            "Renamed: hit_hit_r1_268.jpg -> hit_hit_hit_r1_268.jpg\n",
            "Renamed: hit_hit_r2_216.jpg -> hit_hit_hit_r2_216.jpg\n",
            "Renamed: hit_hit_r2_82.jpg -> hit_hit_hit_r2_82.jpg\n",
            "Renamed: hit_hit_r1_162.jpg -> hit_hit_hit_r1_162.jpg\n",
            "Renamed: hit_hit_r0_94.jpg -> hit_hit_hit_r0_94.jpg\n",
            "Renamed: hit_hit_r1_130.jpg -> hit_hit_hit_r1_130.jpg\n",
            "Renamed: hit_hit_r2_22.jpg -> hit_hit_hit_r2_22.jpg\n",
            "Renamed: hit_hit_r0_186.jpg -> hit_hit_hit_r0_186.jpg\n",
            "Renamed: hit_hit_r0_170.jpg -> hit_hit_hit_r0_170.jpg\n",
            "Renamed: hit_hit_r0_152.jpg -> hit_hit_hit_r0_152.jpg\n",
            "Renamed: hit_hit_r0_138.jpg -> hit_hit_hit_r0_138.jpg\n",
            "Renamed: hit_hit_r0_278.jpg -> hit_hit_hit_r0_278.jpg\n",
            "Renamed: hit_hit_r1_16.jpg -> hit_hit_hit_r1_16.jpg\n",
            "Renamed: hit_hit_r0_286.jpg -> hit_hit_hit_r0_286.jpg\n",
            "Renamed: hit_hit_r2_164.jpg -> hit_hit_hit_r2_164.jpg\n",
            "Renamed: hit_hit_r1_182.jpg -> hit_hit_hit_r1_182.jpg\n",
            "Renamed: hit_hit_r2_134.jpg -> hit_hit_hit_r2_134.jpg\n",
            "Renamed: hit_hit_r0_164.jpg -> hit_hit_hit_r0_164.jpg\n",
            "Renamed: hit_hit_r2_100.jpg -> hit_hit_hit_r2_100.jpg\n",
            "Renamed: hit_hit_r0_72.jpg -> hit_hit_hit_r0_72.jpg\n",
            "Renamed: hit_hit_r0_188.jpg -> hit_hit_hit_r0_188.jpg\n",
            "Renamed: hit_hit_r2_72.jpg -> hit_hit_hit_r2_72.jpg\n",
            "Renamed: hit_hit_r0_130.jpg -> hit_hit_hit_r0_130.jpg\n",
            "Renamed: hit_hit_r1_8.jpg -> hit_hit_hit_r1_8.jpg\n",
            "Renamed: hit_hit_r0_280.jpg -> hit_hit_hit_r0_280.jpg\n",
            "Renamed: hit_hit_r1_24.jpg -> hit_hit_hit_r1_24.jpg\n",
            "Renamed: hit_hit_r2_12.jpg -> hit_hit_hit_r2_12.jpg\n",
            "Renamed: hit_hit_r2_142.jpg -> hit_hit_hit_r2_142.jpg\n",
            "Renamed: hit_hit_r2_120.jpg -> hit_hit_hit_r2_120.jpg\n",
            "Renamed: hit_hit_r1_138.jpg -> hit_hit_hit_r1_138.jpg\n",
            "Renamed: hit_hit_r0_212.jpg -> hit_hit_hit_r0_212.jpg\n",
            "Renamed: hit_hit_r0_104.jpg -> hit_hit_hit_r0_104.jpg\n",
            "Renamed: hit_hit_r2_260.jpg -> hit_hit_hit_r2_260.jpg\n",
            "Renamed: hit_hit_r2_86.jpg -> hit_hit_hit_r2_86.jpg\n",
            "Renamed: hit_hit_r2_242.jpg -> hit_hit_hit_r2_242.jpg\n",
            "Renamed: hit_hit_r2_272.jpg -> hit_hit_hit_r2_272.jpg\n",
            "Renamed: hit_hit_r0_64.jpg -> hit_hit_hit_r0_64.jpg\n",
            "Renamed: hit_hit_r0_248.jpg -> hit_hit_hit_r0_248.jpg\n",
            "Renamed: hit_hit_r1_284.jpg -> hit_hit_hit_r1_284.jpg\n",
            "Renamed: hit_hit_r1_282.jpg -> hit_hit_hit_r1_282.jpg\n",
            "Renamed: hit_hit_r2_172.jpg -> hit_hit_hit_r2_172.jpg\n",
            "Renamed: hit_hit_r2_238.jpg -> hit_hit_hit_r2_238.jpg\n",
            "Renamed: hit_hit_r2_70.jpg -> hit_hit_hit_r2_70.jpg\n",
            "Renamed: hit_hit_r1_168.jpg -> hit_hit_hit_r1_168.jpg\n",
            "Renamed: hit_hit_r2_94.jpg -> hit_hit_hit_r2_94.jpg\n",
            "Renamed: hit_hit_r1_188.jpg -> hit_hit_hit_r1_188.jpg\n",
            "Renamed: hit_hit_r0_26.jpg -> hit_hit_hit_r0_26.jpg\n",
            "Renamed: hit_hit_r0_218.jpg -> hit_hit_hit_r0_218.jpg\n",
            "Renamed: hit_hit_r2_154.jpg -> hit_hit_hit_r2_154.jpg\n",
            "Renamed: hit_hit_r0_300.jpg -> hit_hit_hit_r0_300.jpg\n",
            "Renamed: hit_hit_r0_96.jpg -> hit_hit_hit_r0_96.jpg\n",
            "Renamed: hit_hit_r1_178.jpg -> hit_hit_hit_r1_178.jpg\n",
            "Renamed: hit_hit_r1_112.jpg -> hit_hit_hit_r1_112.jpg\n",
            "Renamed: hit_hit_r2_136.jpg -> hit_hit_hit_r2_136.jpg\n",
            "Renamed: hit_hit_r0_308.jpg -> hit_hit_hit_r0_308.jpg\n",
            "Renamed: hit_hit_r1_124.jpg -> hit_hit_hit_r1_124.jpg\n",
            "Renamed: hit_hit_r0_0.jpg -> hit_hit_hit_r0_0.jpg\n",
            "Renamed: hit_hit_r1_170.jpg -> hit_hit_hit_r1_170.jpg\n",
            "Renamed: hit_hit_r0_156.jpg -> hit_hit_hit_r0_156.jpg\n",
            "Renamed: hit_hit_r0_66.jpg -> hit_hit_hit_r0_66.jpg\n",
            "Renamed: hit_hit_r0_202.jpg -> hit_hit_hit_r0_202.jpg\n",
            "Renamed: hit_hit_r2_284.jpg -> hit_hit_hit_r2_284.jpg\n",
            "Renamed: hit_hit_r0_274.jpg -> hit_hit_hit_r0_274.jpg\n",
            "Renamed: hit_hit_r0_2.jpg -> hit_hit_hit_r0_2.jpg\n",
            "Renamed: hit_hit_r0_62.jpg -> hit_hit_hit_r0_62.jpg\n",
            "Renamed: hit_hit_r0_290.jpg -> hit_hit_hit_r0_290.jpg\n",
            "Renamed: hit_hit_r2_46.jpg -> hit_hit_hit_r2_46.jpg\n",
            "Renamed: hit_hit_r1_20.jpg -> hit_hit_hit_r1_20.jpg\n",
            "Renamed: hit_hit_r1_54.jpg -> hit_hit_hit_r1_54.jpg\n",
            "Renamed: hit_hit_r1_202.jpg -> hit_hit_hit_r1_202.jpg\n",
            "Renamed: hit_hit_r0_224.jpg -> hit_hit_hit_r0_224.jpg\n",
            "Renamed: hit_hit_r1_80.jpg -> hit_hit_hit_r1_80.jpg\n",
            "Renamed: hit_hit_r0_178.jpg -> hit_hit_hit_r0_178.jpg\n",
            "Renamed: hit_hit_r1_88.jpg -> hit_hit_hit_r1_88.jpg\n",
            "Renamed: hit_hit_r2_274.jpg -> hit_hit_hit_r2_274.jpg\n",
            "Renamed: hit_hit_r1_76.jpg -> hit_hit_hit_r1_76.jpg\n",
            "Renamed: hit_hit_r1_204.jpg -> hit_hit_hit_r1_204.jpg\n",
            "Renamed: hit_hit_r0_10.jpg -> hit_hit_hit_r0_10.jpg\n",
            "Renamed: hit_hit_r2_188.jpg -> hit_hit_hit_r2_188.jpg\n",
            "Renamed: hit_hit_r0_234.jpg -> hit_hit_hit_r0_234.jpg\n",
            "Renamed: hit_hit_r1_44.jpg -> hit_hit_hit_r1_44.jpg\n",
            "Renamed: hit_hit_r2_122.jpg -> hit_hit_hit_r2_122.jpg\n",
            "Renamed: hit_hit_r2_138.jpg -> hit_hit_hit_r2_138.jpg\n",
            "Renamed: hit_hit_r2_162.jpg -> hit_hit_hit_r2_162.jpg\n",
            "Renamed: hit_hit_r0_110.jpg -> hit_hit_hit_r0_110.jpg\n",
            "Renamed: hit_hit_r1_132.jpg -> hit_hit_hit_r1_132.jpg\n",
            "Renamed: hit_hit_r2_290.jpg -> hit_hit_hit_r2_290.jpg\n",
            "Renamed: hit_hit_r0_318.jpg -> hit_hit_hit_r0_318.jpg\n",
            "Renamed: hit_hit_r2_54.jpg -> hit_hit_hit_r2_54.jpg\n",
            "Renamed: hit_hit_r2_158.jpg -> hit_hit_hit_r2_158.jpg\n",
            "Renamed: hit_hit_r2_252.jpg -> hit_hit_hit_r2_252.jpg\n",
            "Renamed: hit_hit_r1_68.jpg -> hit_hit_hit_r1_68.jpg\n",
            "Renamed: hit_hit_r0_208.jpg -> hit_hit_hit_r0_208.jpg\n",
            "Renamed: hit_hit_r1_222.jpg -> hit_hit_hit_r1_222.jpg\n",
            "Renamed: hit_hit_r2_288.jpg -> hit_hit_hit_r2_288.jpg\n",
            "Renamed: hit_hit_r2_184.jpg -> hit_hit_hit_r2_184.jpg\n",
            "Renamed: hit_hit_r0_230.jpg -> hit_hit_hit_r0_230.jpg\n",
            "Renamed: hit_hit_r2_306.jpg -> hit_hit_hit_r2_306.jpg\n",
            "Renamed: hit_hit_r2_232.jpg -> hit_hit_hit_r2_232.jpg\n",
            "Renamed: hit_hit_r2_48.jpg -> hit_hit_hit_r2_48.jpg\n",
            "Renamed: hit_hit_r2_32.jpg -> hit_hit_hit_r2_32.jpg\n",
            "Renamed: hit_hit_r2_14.jpg -> hit_hit_hit_r2_14.jpg\n",
            "Renamed: hit_hit_r2_294.jpg -> hit_hit_hit_r2_294.jpg\n",
            "Renamed: hit_hit_r0_68.jpg -> hit_hit_hit_r0_68.jpg\n",
            "Renamed: hit_hit_r2_116.jpg -> hit_hit_hit_r2_116.jpg\n",
            "Renamed: hit_hit_r2_226.jpg -> hit_hit_hit_r2_226.jpg\n",
            "Renamed: hit_hit_r0_282.jpg -> hit_hit_hit_r0_282.jpg\n",
            "All files in 'apple_hit_1' folder have been renamed.\n",
            "Renamed: rot_rot_r0_286.jpg -> rot_rot_rot_r0_286.jpg\n",
            "Renamed: rot_rot_r0_308.jpg -> rot_rot_rot_r0_308.jpg\n",
            "Renamed: rot_rot_r0_120.jpg -> rot_rot_rot_r0_120.jpg\n",
            "Renamed: rot_rot_r1_34.jpg -> rot_rot_rot_r1_34.jpg\n",
            "Renamed: rot_rot_r0_300.jpg -> rot_rot_rot_r0_300.jpg\n",
            "Renamed: rot_rot_r0_210.jpg -> rot_rot_rot_r0_210.jpg\n",
            "Renamed: rot_rot_r0_228.jpg -> rot_rot_rot_r0_228.jpg\n",
            "Renamed: rot_rot_r1_224.jpg -> rot_rot_rot_r1_224.jpg\n",
            "Renamed: rot_rot_r1_210.jpg -> rot_rot_rot_r1_210.jpg\n",
            "Renamed: rot_rot_r0_126.jpg -> rot_rot_rot_r0_126.jpg\n",
            "Renamed: rot_rot_r1_138.jpg -> rot_rot_rot_r1_138.jpg\n",
            "Renamed: rot_rot_r1_78.jpg -> rot_rot_rot_r1_78.jpg\n",
            "Renamed: rot_rot_r1_204.jpg -> rot_rot_rot_r1_204.jpg\n",
            "Renamed: rot_rot_r0_102.jpg -> rot_rot_rot_r0_102.jpg\n",
            "Renamed: rot_rot_r1_94.jpg -> rot_rot_rot_r1_94.jpg\n",
            "Renamed: rot_rot_r0_104.jpg -> rot_rot_rot_r0_104.jpg\n",
            "Renamed: rot_rot_r1_108.jpg -> rot_rot_rot_r1_108.jpg\n",
            "Renamed: rot_rot_r1_14.jpg -> rot_rot_rot_r1_14.jpg\n",
            "Renamed: rot_rot_r0_242.jpg -> rot_rot_rot_r0_242.jpg\n",
            "Renamed: rot_rot_r0_164.jpg -> rot_rot_rot_r0_164.jpg\n",
            "Renamed: rot_rot_r0_252.jpg -> rot_rot_rot_r0_252.jpg\n",
            "Renamed: rot_rot_r0_220.jpg -> rot_rot_rot_r0_220.jpg\n",
            "Renamed: rot_rot_r1_142.jpg -> rot_rot_rot_r1_142.jpg\n",
            "Renamed: rot_rot_r0_84.jpg -> rot_rot_rot_r0_84.jpg\n",
            "Renamed: rot_rot_r1_314.jpg -> rot_rot_rot_r1_314.jpg\n",
            "Renamed: rot_rot_r1_146.jpg -> rot_rot_rot_r1_146.jpg\n",
            "Renamed: rot_rot_r0_60.jpg -> rot_rot_rot_r0_60.jpg\n",
            "Renamed: rot_rot_r0_222.jpg -> rot_rot_rot_r0_222.jpg\n",
            "Renamed: rot_rot_r1_220.jpg -> rot_rot_rot_r1_220.jpg\n",
            "Renamed: rot_rot_r1_42.jpg -> rot_rot_rot_r1_42.jpg\n",
            "Renamed: rot_rot_r1_230.jpg -> rot_rot_rot_r1_230.jpg\n",
            "Renamed: rot_rot_r0_128.jpg -> rot_rot_rot_r0_128.jpg\n",
            "Renamed: rot_rot_r0_142.jpg -> rot_rot_rot_r0_142.jpg\n",
            "Renamed: rot_rot_r1_200.jpg -> rot_rot_rot_r1_200.jpg\n",
            "Renamed: rot_rot_r1_232.jpg -> rot_rot_rot_r1_232.jpg\n",
            "Renamed: rot_rot_r0_280.jpg -> rot_rot_rot_r0_280.jpg\n",
            "Renamed: rot_rot_r1_32.jpg -> rot_rot_rot_r1_32.jpg\n",
            "Renamed: rot_rot_r1_126.jpg -> rot_rot_rot_r1_126.jpg\n",
            "Renamed: rot_rot_r0_196.jpg -> rot_rot_rot_r0_196.jpg\n",
            "Renamed: rot_rot_r0_160.jpg -> rot_rot_rot_r0_160.jpg\n",
            "Renamed: rot_rot_r1_152.jpg -> rot_rot_rot_r1_152.jpg\n",
            "Renamed: rot_rot_r0_216.jpg -> rot_rot_rot_r0_216.jpg\n",
            "Renamed: rot_rot_r0_206.jpg -> rot_rot_rot_r0_206.jpg\n",
            "Renamed: rot_rot_r1_96.jpg -> rot_rot_rot_r1_96.jpg\n",
            "Renamed: rot_rot_r0_162.jpg -> rot_rot_rot_r0_162.jpg\n",
            "Renamed: rot_rot_r0_88.jpg -> rot_rot_rot_r0_88.jpg\n",
            "Renamed: rot_rot_r1_44.jpg -> rot_rot_rot_r1_44.jpg\n",
            "Renamed: rot_rot_r1_76.jpg -> rot_rot_rot_r1_76.jpg\n",
            "Renamed: rot_rot_r0_192.jpg -> rot_rot_rot_r0_192.jpg\n",
            "Renamed: rot_rot_r1_90.jpg -> rot_rot_rot_r1_90.jpg\n",
            "Renamed: rot_rot_r0_98.jpg -> rot_rot_rot_r0_98.jpg\n",
            "Renamed: rot_rot_r1_92.jpg -> rot_rot_rot_r1_92.jpg\n",
            "Renamed: rot_rot_r0_52.jpg -> rot_rot_rot_r0_52.jpg\n",
            "Renamed: rot_rot_r0_66.jpg -> rot_rot_rot_r0_66.jpg\n",
            "Renamed: rot_rot_r0_0.jpg -> rot_rot_rot_r0_0.jpg\n",
            "Renamed: rot_rot_r0_190.jpg -> rot_rot_rot_r0_190.jpg\n",
            "Renamed: rot_rot_r1_174.jpg -> rot_rot_rot_r1_174.jpg\n",
            "Renamed: rot_rot_r1_290.jpg -> rot_rot_rot_r1_290.jpg\n",
            "Renamed: rot_rot_r1_28.jpg -> rot_rot_rot_r1_28.jpg\n",
            "Renamed: rot_rot_r1_262.jpg -> rot_rot_rot_r1_262.jpg\n",
            "Renamed: rot_rot_r1_62.jpg -> rot_rot_rot_r1_62.jpg\n",
            "Renamed: rot_rot_r0_182.jpg -> rot_rot_rot_r0_182.jpg\n",
            "Renamed: rot_rot_r0_154.jpg -> rot_rot_rot_r0_154.jpg\n",
            "Renamed: rot_rot_r0_250.jpg -> rot_rot_rot_r0_250.jpg\n",
            "Renamed: rot_rot_r1_4.jpg -> rot_rot_rot_r1_4.jpg\n",
            "Renamed: rot_rot_r0_106.jpg -> rot_rot_rot_r0_106.jpg\n",
            "Renamed: rot_rot_r0_6.jpg -> rot_rot_rot_r0_6.jpg\n",
            "Renamed: rot_rot_r0_20.jpg -> rot_rot_rot_r0_20.jpg\n",
            "Renamed: rot_rot_r0_310.jpg -> rot_rot_rot_r0_310.jpg\n",
            "Renamed: rot_rot_r1_194.jpg -> rot_rot_rot_r1_194.jpg\n",
            "Renamed: rot_rot_r0_78.jpg -> rot_rot_rot_r0_78.jpg\n",
            "Renamed: rot_rot_r0_38.jpg -> rot_rot_rot_r0_38.jpg\n",
            "Renamed: rot_rot_r1_56.jpg -> rot_rot_rot_r1_56.jpg\n",
            "Renamed: rot_rot_r1_182.jpg -> rot_rot_rot_r1_182.jpg\n",
            "Renamed: rot_rot_r0_204.jpg -> rot_rot_rot_r0_204.jpg\n",
            "Renamed: rot_rot_r1_268.jpg -> rot_rot_rot_r1_268.jpg\n",
            "Renamed: rot_rot_r0_90.jpg -> rot_rot_rot_r0_90.jpg\n",
            "Renamed: rot_rot_r1_122.jpg -> rot_rot_rot_r1_122.jpg\n",
            "Renamed: rot_rot_r0_136.jpg -> rot_rot_rot_r0_136.jpg\n",
            "Renamed: rot_rot_r1_130.jpg -> rot_rot_rot_r1_130.jpg\n",
            "Renamed: rot_rot_r0_24.jpg -> rot_rot_rot_r0_24.jpg\n",
            "Renamed: rot_rot_r1_80.jpg -> rot_rot_rot_r1_80.jpg\n",
            "Renamed: rot_rot_r0_32.jpg -> rot_rot_rot_r0_32.jpg\n",
            "Renamed: rot_rot_r1_208.jpg -> rot_rot_rot_r1_208.jpg\n",
            "Renamed: rot_rot_r0_148.jpg -> rot_rot_rot_r0_148.jpg\n",
            "Renamed: rot_rot_r0_218.jpg -> rot_rot_rot_r0_218.jpg\n",
            "Renamed: rot_rot_r0_224.jpg -> rot_rot_rot_r0_224.jpg\n",
            "Renamed: rot_rot_r1_46.jpg -> rot_rot_rot_r1_46.jpg\n",
            "Renamed: rot_rot_r0_70.jpg -> rot_rot_rot_r0_70.jpg\n",
            "Renamed: rot_rot_r0_234.jpg -> rot_rot_rot_r0_234.jpg\n",
            "Renamed: rot_rot_r1_266.jpg -> rot_rot_rot_r1_266.jpg\n",
            "Renamed: rot_rot_r1_296.jpg -> rot_rot_rot_r1_296.jpg\n",
            "Renamed: rot_rot_r0_46.jpg -> rot_rot_rot_r0_46.jpg\n",
            "Renamed: rot_rot_r1_214.jpg -> rot_rot_rot_r1_214.jpg\n",
            "Renamed: rot_rot_r0_298.jpg -> rot_rot_rot_r0_298.jpg\n",
            "Renamed: rot_rot_r1_218.jpg -> rot_rot_rot_r1_218.jpg\n",
            "Renamed: rot_rot_r1_102.jpg -> rot_rot_rot_r1_102.jpg\n",
            "Renamed: rot_rot_r1_240.jpg -> rot_rot_rot_r1_240.jpg\n",
            "Renamed: rot_rot_r1_254.jpg -> rot_rot_rot_r1_254.jpg\n",
            "Renamed: rot_rot_r0_168.jpg -> rot_rot_rot_r0_168.jpg\n",
            "Renamed: rot_rot_r1_84.jpg -> rot_rot_rot_r1_84.jpg\n",
            "Renamed: rot_rot_r1_86.jpg -> rot_rot_rot_r1_86.jpg\n",
            "Renamed: rot_rot_r1_164.jpg -> rot_rot_rot_r1_164.jpg\n",
            "Renamed: rot_rot_r0_16.jpg -> rot_rot_rot_r0_16.jpg\n",
            "Renamed: rot_rot_r0_274.jpg -> rot_rot_rot_r0_274.jpg\n",
            "Renamed: rot_rot_r1_26.jpg -> rot_rot_rot_r1_26.jpg\n",
            "Renamed: rot_rot_r0_42.jpg -> rot_rot_rot_r0_42.jpg\n",
            "Renamed: rot_rot_r0_116.jpg -> rot_rot_rot_r0_116.jpg\n",
            "Renamed: rot_rot_r1_12.jpg -> rot_rot_rot_r1_12.jpg\n",
            "Renamed: rot_rot_r1_298.jpg -> rot_rot_rot_r1_298.jpg\n",
            "Renamed: rot_rot_r0_254.jpg -> rot_rot_rot_r0_254.jpg\n",
            "Renamed: rot_rot_r0_146.jpg -> rot_rot_rot_r0_146.jpg\n",
            "Renamed: rot_rot_r0_266.jpg -> rot_rot_rot_r0_266.jpg\n",
            "Renamed: rot_rot_r1_192.jpg -> rot_rot_rot_r1_192.jpg\n",
            "Renamed: rot_rot_r1_292.jpg -> rot_rot_rot_r1_292.jpg\n",
            "Renamed: rot_rot_r1_18.jpg -> rot_rot_rot_r1_18.jpg\n",
            "Renamed: rot_rot_r0_294.jpg -> rot_rot_rot_r0_294.jpg\n",
            "Renamed: rot_rot_r0_112.jpg -> rot_rot_rot_r0_112.jpg\n",
            "Renamed: rot_rot_r0_50.jpg -> rot_rot_rot_r0_50.jpg\n",
            "Renamed: rot_rot_r0_62.jpg -> rot_rot_rot_r0_62.jpg\n",
            "Renamed: rot_rot_r1_286.jpg -> rot_rot_rot_r1_286.jpg\n",
            "Renamed: rot_rot_r1_100.jpg -> rot_rot_rot_r1_100.jpg\n",
            "Renamed: rot_rot_r1_16.jpg -> rot_rot_rot_r1_16.jpg\n",
            "Renamed: rot_rot_r1_310.jpg -> rot_rot_rot_r1_310.jpg\n",
            "Renamed: rot_rot_r0_10.jpg -> rot_rot_rot_r0_10.jpg\n",
            "Renamed: rot_rot_r0_110.jpg -> rot_rot_rot_r0_110.jpg\n",
            "Renamed: rot_rot_r0_130.jpg -> rot_rot_rot_r0_130.jpg\n",
            "Renamed: rot_rot_r0_188.jpg -> rot_rot_rot_r0_188.jpg\n",
            "Renamed: rot_rot_r0_270.jpg -> rot_rot_rot_r0_270.jpg\n",
            "Renamed: rot_rot_r0_114.jpg -> rot_rot_rot_r0_114.jpg\n",
            "Renamed: rot_rot_r1_140.jpg -> rot_rot_rot_r1_140.jpg\n",
            "Renamed: rot_rot_r0_18.jpg -> rot_rot_rot_r0_18.jpg\n",
            "Renamed: rot_rot_r0_184.jpg -> rot_rot_rot_r0_184.jpg\n",
            "Renamed: rot_rot_r1_302.jpg -> rot_rot_rot_r1_302.jpg\n",
            "Renamed: rot_rot_r1_136.jpg -> rot_rot_rot_r1_136.jpg\n",
            "Renamed: rot_rot_r0_94.jpg -> rot_rot_rot_r0_94.jpg\n",
            "Renamed: rot_rot_r1_172.jpg -> rot_rot_rot_r1_172.jpg\n",
            "Renamed: rot_rot_r0_284.jpg -> rot_rot_rot_r0_284.jpg\n",
            "Renamed: rot_rot_r0_22.jpg -> rot_rot_rot_r0_22.jpg\n",
            "Renamed: rot_rot_r1_114.jpg -> rot_rot_rot_r1_114.jpg\n",
            "Renamed: rot_rot_r1_36.jpg -> rot_rot_rot_r1_36.jpg\n",
            "Renamed: rot_rot_r1_124.jpg -> rot_rot_rot_r1_124.jpg\n",
            "Renamed: rot_rot_r0_312.jpg -> rot_rot_rot_r0_312.jpg\n",
            "Renamed: rot_rot_r1_54.jpg -> rot_rot_rot_r1_54.jpg\n",
            "Renamed: rot_rot_r1_30.jpg -> rot_rot_rot_r1_30.jpg\n",
            "Renamed: rot_rot_r1_40.jpg -> rot_rot_rot_r1_40.jpg\n",
            "Renamed: rot_rot_r0_180.jpg -> rot_rot_rot_r0_180.jpg\n",
            "Renamed: rot_rot_r0_12.jpg -> rot_rot_rot_r0_12.jpg\n",
            "Renamed: rot_rot_r0_316.jpg -> rot_rot_rot_r0_316.jpg\n",
            "Renamed: rot_rot_r1_148.jpg -> rot_rot_rot_r1_148.jpg\n",
            "Renamed: rot_rot_r1_190.jpg -> rot_rot_rot_r1_190.jpg\n",
            "Renamed: rot_rot_r1_6.jpg -> rot_rot_rot_r1_6.jpg\n",
            "Renamed: rot_rot_r0_296.jpg -> rot_rot_rot_r0_296.jpg\n",
            "Renamed: rot_rot_r0_214.jpg -> rot_rot_rot_r0_214.jpg\n",
            "Renamed: rot_rot_r1_270.jpg -> rot_rot_rot_r1_270.jpg\n",
            "Renamed: rot_rot_r1_88.jpg -> rot_rot_rot_r1_88.jpg\n",
            "Renamed: rot_rot_r0_282.jpg -> rot_rot_rot_r0_282.jpg\n",
            "Renamed: rot_rot_r0_244.jpg -> rot_rot_rot_r0_244.jpg\n",
            "Renamed: rot_rot_r1_306.jpg -> rot_rot_rot_r1_306.jpg\n",
            "Renamed: rot_rot_r1_252.jpg -> rot_rot_rot_r1_252.jpg\n",
            "Renamed: rot_rot_r1_312.jpg -> rot_rot_rot_r1_312.jpg\n",
            "Renamed: rot_rot_r0_108.jpg -> rot_rot_rot_r0_108.jpg\n",
            "Renamed: rot_rot_r1_60.jpg -> rot_rot_rot_r1_60.jpg\n",
            "Renamed: rot_rot_r1_68.jpg -> rot_rot_rot_r1_68.jpg\n",
            "Renamed: rot_rot_r1_304.jpg -> rot_rot_rot_r1_304.jpg\n",
            "Renamed: rot_rot_r0_272.jpg -> rot_rot_rot_r0_272.jpg\n",
            "Renamed: rot_rot_r0_138.jpg -> rot_rot_rot_r0_138.jpg\n",
            "Renamed: rot_rot_r1_178.jpg -> rot_rot_rot_r1_178.jpg\n",
            "Renamed: rot_rot_r1_234.jpg -> rot_rot_rot_r1_234.jpg\n",
            "Renamed: rot_rot_r1_180.jpg -> rot_rot_rot_r1_180.jpg\n",
            "Renamed: rot_rot_r1_8.jpg -> rot_rot_rot_r1_8.jpg\n",
            "Renamed: rot_rot_r1_160.jpg -> rot_rot_rot_r1_160.jpg\n",
            "Renamed: rot_rot_r1_248.jpg -> rot_rot_rot_r1_248.jpg\n",
            "Renamed: rot_rot_r1_316.jpg -> rot_rot_rot_r1_316.jpg\n",
            "Renamed: rot_rot_r0_202.jpg -> rot_rot_rot_r0_202.jpg\n",
            "Renamed: rot_rot_r1_198.jpg -> rot_rot_rot_r1_198.jpg\n",
            "Renamed: rot_rot_r0_198.jpg -> rot_rot_rot_r0_198.jpg\n",
            "Renamed: rot_rot_r1_156.jpg -> rot_rot_rot_r1_156.jpg\n",
            "Renamed: rot_rot_r1_272.jpg -> rot_rot_rot_r1_272.jpg\n",
            "Renamed: rot_rot_r0_226.jpg -> rot_rot_rot_r0_226.jpg\n",
            "Renamed: rot_rot_r1_274.jpg -> rot_rot_rot_r1_274.jpg\n",
            "Renamed: rot_rot_r0_156.jpg -> rot_rot_rot_r0_156.jpg\n",
            "Renamed: rot_rot_r1_258.jpg -> rot_rot_rot_r1_258.jpg\n",
            "Renamed: rot_rot_r0_2.jpg -> rot_rot_rot_r0_2.jpg\n",
            "Renamed: rot_rot_r0_174.jpg -> rot_rot_rot_r0_174.jpg\n",
            "Renamed: rot_rot_r1_282.jpg -> rot_rot_rot_r1_282.jpg\n",
            "Renamed: rot_rot_r1_162.jpg -> rot_rot_rot_r1_162.jpg\n",
            "Renamed: rot_rot_r0_92.jpg -> rot_rot_rot_r0_92.jpg\n",
            "Renamed: rot_rot_r0_76.jpg -> rot_rot_rot_r0_76.jpg\n",
            "Renamed: rot_rot_r1_206.jpg -> rot_rot_rot_r1_206.jpg\n",
            "Renamed: rot_rot_r1_184.jpg -> rot_rot_rot_r1_184.jpg\n",
            "Renamed: rot_rot_r0_158.jpg -> rot_rot_rot_r0_158.jpg\n",
            "Renamed: rot_rot_r1_186.jpg -> rot_rot_rot_r1_186.jpg\n",
            "Renamed: rot_rot_r0_56.jpg -> rot_rot_rot_r0_56.jpg\n",
            "Renamed: rot_rot_r0_96.jpg -> rot_rot_rot_r0_96.jpg\n",
            "Renamed: rot_rot_r1_104.jpg -> rot_rot_rot_r1_104.jpg\n",
            "Renamed: rot_rot_r0_28.jpg -> rot_rot_rot_r0_28.jpg\n",
            "Renamed: rot_rot_r0_276.jpg -> rot_rot_rot_r0_276.jpg\n",
            "Renamed: rot_rot_r0_36.jpg -> rot_rot_rot_r0_36.jpg\n",
            "Renamed: rot_rot_r0_290.jpg -> rot_rot_rot_r0_290.jpg\n",
            "Renamed: rot_rot_r1_82.jpg -> rot_rot_rot_r1_82.jpg\n",
            "Renamed: rot_rot_r0_64.jpg -> rot_rot_rot_r0_64.jpg\n",
            "Renamed: rot_rot_r1_2.jpg -> rot_rot_rot_r1_2.jpg\n",
            "Renamed: rot_rot_r0_82.jpg -> rot_rot_rot_r0_82.jpg\n",
            "Renamed: rot_rot_r1_52.jpg -> rot_rot_rot_r1_52.jpg\n",
            "Renamed: rot_rot_r0_292.jpg -> rot_rot_rot_r0_292.jpg\n",
            "Renamed: rot_rot_r0_4.jpg -> rot_rot_rot_r0_4.jpg\n",
            "Renamed: rot_rot_r0_48.jpg -> rot_rot_rot_r0_48.jpg\n",
            "Renamed: rot_rot_r1_112.jpg -> rot_rot_rot_r1_112.jpg\n",
            "Renamed: rot_rot_r1_278.jpg -> rot_rot_rot_r1_278.jpg\n",
            "Renamed: rot_rot_r0_34.jpg -> rot_rot_rot_r0_34.jpg\n",
            "Renamed: rot_rot_r1_22.jpg -> rot_rot_rot_r1_22.jpg\n",
            "Renamed: rot_rot_r1_0.jpg -> rot_rot_rot_r1_0.jpg\n",
            "Renamed: rot_rot_r0_236.jpg -> rot_rot_rot_r0_236.jpg\n",
            "Renamed: rot_rot_r1_188.jpg -> rot_rot_rot_r1_188.jpg\n",
            "Renamed: rot_rot_r1_10.jpg -> rot_rot_rot_r1_10.jpg\n",
            "Renamed: rot_rot_r0_72.jpg -> rot_rot_rot_r0_72.jpg\n",
            "Renamed: rot_rot_r0_44.jpg -> rot_rot_rot_r0_44.jpg\n",
            "Renamed: rot_rot_r1_110.jpg -> rot_rot_rot_r1_110.jpg\n",
            "Renamed: rot_rot_r0_124.jpg -> rot_rot_rot_r0_124.jpg\n",
            "Renamed: rot_rot_r0_40.jpg -> rot_rot_rot_r0_40.jpg\n",
            "Renamed: rot_rot_r1_118.jpg -> rot_rot_rot_r1_118.jpg\n",
            "Renamed: rot_rot_r0_246.jpg -> rot_rot_rot_r0_246.jpg\n",
            "Renamed: rot_rot_r1_260.jpg -> rot_rot_rot_r1_260.jpg\n",
            "Renamed: rot_rot_r1_246.jpg -> rot_rot_rot_r1_246.jpg\n",
            "Renamed: rot_rot_r0_268.jpg -> rot_rot_rot_r0_268.jpg\n",
            "Renamed: rot_rot_r1_24.jpg -> rot_rot_rot_r1_24.jpg\n",
            "Renamed: rot_rot_r0_248.jpg -> rot_rot_rot_r0_248.jpg\n",
            "Renamed: rot_rot_r1_170.jpg -> rot_rot_rot_r1_170.jpg\n",
            "Renamed: rot_rot_r1_216.jpg -> rot_rot_rot_r1_216.jpg\n",
            "Renamed: rot_rot_r1_158.jpg -> rot_rot_rot_r1_158.jpg\n",
            "Renamed: rot_rot_r1_202.jpg -> rot_rot_rot_r1_202.jpg\n",
            "Renamed: rot_rot_r1_226.jpg -> rot_rot_rot_r1_226.jpg\n",
            "Renamed: rot_rot_r0_170.jpg -> rot_rot_rot_r0_170.jpg\n",
            "Renamed: rot_rot_r0_54.jpg -> rot_rot_rot_r0_54.jpg\n",
            "Renamed: rot_rot_r1_166.jpg -> rot_rot_rot_r1_166.jpg\n",
            "Renamed: rot_rot_r1_120.jpg -> rot_rot_rot_r1_120.jpg\n",
            "Renamed: rot_rot_r0_152.jpg -> rot_rot_rot_r0_152.jpg\n",
            "Renamed: rot_rot_r1_50.jpg -> rot_rot_rot_r1_50.jpg\n",
            "Renamed: rot_rot_r0_278.jpg -> rot_rot_rot_r0_278.jpg\n",
            "Renamed: rot_rot_r0_30.jpg -> rot_rot_rot_r0_30.jpg\n",
            "Renamed: rot_rot_r1_308.jpg -> rot_rot_rot_r1_308.jpg\n",
            "Renamed: rot_rot_r0_232.jpg -> rot_rot_rot_r0_232.jpg\n",
            "Renamed: rot_rot_r0_176.jpg -> rot_rot_rot_r0_176.jpg\n",
            "Renamed: rot_rot_r1_20.jpg -> rot_rot_rot_r1_20.jpg\n",
            "Renamed: rot_rot_r1_196.jpg -> rot_rot_rot_r1_196.jpg\n",
            "Renamed: rot_rot_r1_280.jpg -> rot_rot_rot_r1_280.jpg\n",
            "Renamed: rot_rot_r0_256.jpg -> rot_rot_rot_r0_256.jpg\n",
            "Renamed: rot_rot_r0_140.jpg -> rot_rot_rot_r0_140.jpg\n",
            "Renamed: rot_rot_r1_300.jpg -> rot_rot_rot_r1_300.jpg\n",
            "Renamed: rot_rot_r0_166.jpg -> rot_rot_rot_r0_166.jpg\n",
            "Renamed: rot_rot_r0_8.jpg -> rot_rot_rot_r0_8.jpg\n",
            "Renamed: rot_rot_r1_284.jpg -> rot_rot_rot_r1_284.jpg\n",
            "Renamed: rot_rot_r0_288.jpg -> rot_rot_rot_r0_288.jpg\n",
            "Renamed: rot_rot_r1_64.jpg -> rot_rot_rot_r1_64.jpg\n",
            "Renamed: rot_rot_r0_122.jpg -> rot_rot_rot_r0_122.jpg\n",
            "Renamed: rot_rot_r1_98.jpg -> rot_rot_rot_r1_98.jpg\n",
            "Renamed: rot_rot_r1_38.jpg -> rot_rot_rot_r1_38.jpg\n",
            "Renamed: rot_rot_r0_118.jpg -> rot_rot_rot_r0_118.jpg\n",
            "Renamed: rot_rot_r1_236.jpg -> rot_rot_rot_r1_236.jpg\n",
            "Renamed: rot_rot_r1_66.jpg -> rot_rot_rot_r1_66.jpg\n",
            "Renamed: rot_rot_r0_74.jpg -> rot_rot_rot_r0_74.jpg\n",
            "Renamed: rot_rot_r0_260.jpg -> rot_rot_rot_r0_260.jpg\n",
            "Renamed: rot_rot_r1_72.jpg -> rot_rot_rot_r1_72.jpg\n",
            "Renamed: rot_rot_r1_294.jpg -> rot_rot_rot_r1_294.jpg\n",
            "Renamed: rot_rot_r0_150.jpg -> rot_rot_rot_r0_150.jpg\n",
            "Renamed: rot_rot_r0_26.jpg -> rot_rot_rot_r0_26.jpg\n",
            "Renamed: rot_rot_r0_144.jpg -> rot_rot_rot_r0_144.jpg\n",
            "Renamed: rot_rot_r0_302.jpg -> rot_rot_rot_r0_302.jpg\n",
            "Renamed: rot_rot_r0_186.jpg -> rot_rot_rot_r0_186.jpg\n",
            "Renamed: rot_rot_r0_314.jpg -> rot_rot_rot_r0_314.jpg\n",
            "Renamed: rot_rot_r1_238.jpg -> rot_rot_rot_r1_238.jpg\n",
            "Renamed: rot_rot_r0_132.jpg -> rot_rot_rot_r0_132.jpg\n",
            "Renamed: rot_rot_r0_86.jpg -> rot_rot_rot_r0_86.jpg\n",
            "Renamed: rot_rot_r1_134.jpg -> rot_rot_rot_r1_134.jpg\n",
            "Renamed: rot_rot_r1_228.jpg -> rot_rot_rot_r1_228.jpg\n",
            "Renamed: rot_rot_r0_258.jpg -> rot_rot_rot_r0_258.jpg\n",
            "Renamed: rot_rot_r0_14.jpg -> rot_rot_rot_r0_14.jpg\n",
            "Renamed: rot_rot_r0_212.jpg -> rot_rot_rot_r0_212.jpg\n",
            "Renamed: rot_rot_r0_264.jpg -> rot_rot_rot_r0_264.jpg\n",
            "Renamed: rot_rot_r1_132.jpg -> rot_rot_rot_r1_132.jpg\n",
            "Renamed: rot_rot_r1_70.jpg -> rot_rot_rot_r1_70.jpg\n",
            "Renamed: rot_rot_r1_58.jpg -> rot_rot_rot_r1_58.jpg\n",
            "Renamed: rot_rot_r0_240.jpg -> rot_rot_rot_r0_240.jpg\n",
            "Renamed: rot_rot_r1_106.jpg -> rot_rot_rot_r1_106.jpg\n",
            "Renamed: rot_rot_r0_238.jpg -> rot_rot_rot_r0_238.jpg\n",
            "Renamed: rot_rot_r1_128.jpg -> rot_rot_rot_r1_128.jpg\n",
            "Renamed: rot_rot_r1_242.jpg -> rot_rot_rot_r1_242.jpg\n",
            "Renamed: rot_rot_r1_222.jpg -> rot_rot_rot_r1_222.jpg\n",
            "Renamed: rot_rot_r1_288.jpg -> rot_rot_rot_r1_288.jpg\n",
            "Renamed: rot_rot_r1_264.jpg -> rot_rot_rot_r1_264.jpg\n",
            "Renamed: rot_rot_r0_134.jpg -> rot_rot_rot_r0_134.jpg\n",
            "Renamed: rot_rot_r1_176.jpg -> rot_rot_rot_r1_176.jpg\n",
            "Renamed: rot_rot_r0_68.jpg -> rot_rot_rot_r0_68.jpg\n",
            "Renamed: rot_rot_r1_168.jpg -> rot_rot_rot_r1_168.jpg\n",
            "Renamed: rot_rot_r1_250.jpg -> rot_rot_rot_r1_250.jpg\n",
            "Renamed: rot_rot_r1_256.jpg -> rot_rot_rot_r1_256.jpg\n",
            "Renamed: rot_rot_r1_318.jpg -> rot_rot_rot_r1_318.jpg\n",
            "Renamed: rot_rot_r1_276.jpg -> rot_rot_rot_r1_276.jpg\n",
            "Renamed: rot_rot_r0_304.jpg -> rot_rot_rot_r0_304.jpg\n",
            "Renamed: rot_rot_r0_208.jpg -> rot_rot_rot_r0_208.jpg\n",
            "Renamed: rot_rot_r1_212.jpg -> rot_rot_rot_r1_212.jpg\n",
            "Renamed: rot_rot_r0_172.jpg -> rot_rot_rot_r0_172.jpg\n",
            "Renamed: rot_rot_r0_100.jpg -> rot_rot_rot_r0_100.jpg\n",
            "Renamed: rot_rot_r0_58.jpg -> rot_rot_rot_r0_58.jpg\n",
            "Renamed: rot_rot_r0_80.jpg -> rot_rot_rot_r0_80.jpg\n",
            "Renamed: rot_rot_r1_48.jpg -> rot_rot_rot_r1_48.jpg\n",
            "Renamed: rot_rot_r1_116.jpg -> rot_rot_rot_r1_116.jpg\n",
            "Renamed: rot_rot_r0_194.jpg -> rot_rot_rot_r0_194.jpg\n",
            "Renamed: rot_rot_r0_262.jpg -> rot_rot_rot_r0_262.jpg\n",
            "Renamed: rot_rot_r1_150.jpg -> rot_rot_rot_r1_150.jpg\n",
            "Renamed: rot_rot_r0_306.jpg -> rot_rot_rot_r0_306.jpg\n",
            "Renamed: rot_rot_r1_244.jpg -> rot_rot_rot_r1_244.jpg\n",
            "Renamed: rot_rot_r0_178.jpg -> rot_rot_rot_r0_178.jpg\n",
            "Renamed: rot_rot_r1_144.jpg -> rot_rot_rot_r1_144.jpg\n",
            "Renamed: rot_rot_r0_230.jpg -> rot_rot_rot_r0_230.jpg\n",
            "Renamed: rot_rot_r0_200.jpg -> rot_rot_rot_r0_200.jpg\n",
            "Renamed: rot_rot_r1_154.jpg -> rot_rot_rot_r1_154.jpg\n",
            "Renamed: rot_rot_r1_74.jpg -> rot_rot_rot_r1_74.jpg\n",
            "All files in 'apple_rotten_1' folder have been renamed.\n"
          ]
        }
      ],
      "source": [
        "def rename_files_in_folder(folder_path, prefix='hit_', suffix=''):\n",
        "    \"\"\"\n",
        "    Renames all files in the specified folder by adding a prefix or suffix.\n",
        "\n",
        "    Args:\n",
        "    - folder_path: The path to the folder containing files to be renamed.\n",
        "    - prefix: A string to add to the beginning of each filename.\n",
        "    - suffix: A string to add to the end of each filename (before the extension).\n",
        "    \"\"\"\n",
        "    # Get the list of all files in the folder\n",
        "    files = os.listdir(folder_path)\n",
        "\n",
        "    for filename in files:\n",
        "        # Split the filename into name and extension\n",
        "        name, ext = os.path.splitext(filename)\n",
        "\n",
        "        # Construct the new filename with prefix/suffix\n",
        "        new_name = f\"{prefix}{name}{suffix}{ext}\"\n",
        "\n",
        "        # Get full paths for renaming\n",
        "        old_file = os.path.join(folder_path, filename)\n",
        "        new_file = os.path.join(folder_path, new_name)\n",
        "\n",
        "        # Rename the file\n",
        "        os.rename(old_file, new_file)\n",
        "        print(f\"Renamed: {filename} -> {new_name}\")\n",
        "\n",
        "# Define the path to the 'hit' folder\n",
        "hit_folder_path = 'SCTPAIMLcapstone/Training/apple_hit_1'\n",
        "\n",
        "# Rename the files in the 'hit' folder\n",
        "rename_files_in_folder(hit_folder_path, prefix='hit_')\n",
        "\n",
        "print(\"All files in 'apple_hit_1' folder have been renamed.\")\n",
        "\n",
        "# Define the path to the 'rot' folder\n",
        "rot_folder_path = 'SCTPAIMLcapstone/Training/apple_rotten_1'\n",
        "\n",
        "# Rename the files in the 'rot' folder\n",
        "rename_files_in_folder(rot_folder_path, prefix='rot_')\n",
        "\n",
        "print(\"All files in 'apple_rotten_1' folder have been renamed.\")\n"
      ]
    },
    {
      "cell_type": "markdown",
      "source": [
        "**Merge Folders**"
      ],
      "metadata": {
        "id": "DFel_eN6SAEd"
      }
    },
    {
      "cell_type": "code",
      "source": [
        "# Move the renamed files from 'hit' to 'rotten'\n",
        "for filename in os.listdir(hit_folder_path):\n",
        "    # Construct the full path to the file\n",
        "    file_path = os.path.join(hit_folder_path, filename)\n",
        "\n",
        "    # Move the file to the 'rotten' folder\n",
        "    shutil.move(file_path, os.path.join(rot_folder_path, filename))\n",
        "\n",
        "print(\"Files from 'Apple hit' have been merged into 'Apple rotten'.\")"
      ],
      "metadata": {
        "id": "OT3XZucAYbFd",
        "colab": {
          "base_uri": "https://localhost:8080/",
          "height": 219
        },
        "outputId": "f20dd20a-a49e-43c5-b49b-f5da799e78e8"
      },
      "execution_count": 10,
      "outputs": [
        {
          "output_type": "error",
          "ename": "NameError",
          "evalue": "name 'shutil' is not defined",
          "traceback": [
            "\u001b[0;31m---------------------------------------------------------------------------\u001b[0m",
            "\u001b[0;31mNameError\u001b[0m                                 Traceback (most recent call last)",
            "\u001b[0;32m<ipython-input-10-c59d33a37b6e>\u001b[0m in \u001b[0;36m<cell line: 2>\u001b[0;34m()\u001b[0m\n\u001b[1;32m      5\u001b[0m \u001b[0;34m\u001b[0m\u001b[0m\n\u001b[1;32m      6\u001b[0m     \u001b[0;31m# Move the file to the 'rotten' folder\u001b[0m\u001b[0;34m\u001b[0m\u001b[0;34m\u001b[0m\u001b[0m\n\u001b[0;32m----> 7\u001b[0;31m     \u001b[0mshutil\u001b[0m\u001b[0;34m.\u001b[0m\u001b[0mmove\u001b[0m\u001b[0;34m(\u001b[0m\u001b[0mfile_path\u001b[0m\u001b[0;34m,\u001b[0m \u001b[0mos\u001b[0m\u001b[0;34m.\u001b[0m\u001b[0mpath\u001b[0m\u001b[0;34m.\u001b[0m\u001b[0mjoin\u001b[0m\u001b[0;34m(\u001b[0m\u001b[0mrot_folder_path\u001b[0m\u001b[0;34m,\u001b[0m \u001b[0mfilename\u001b[0m\u001b[0;34m)\u001b[0m\u001b[0;34m)\u001b[0m\u001b[0;34m\u001b[0m\u001b[0;34m\u001b[0m\u001b[0m\n\u001b[0m\u001b[1;32m      8\u001b[0m \u001b[0;34m\u001b[0m\u001b[0m\n\u001b[1;32m      9\u001b[0m \u001b[0mprint\u001b[0m\u001b[0;34m(\u001b[0m\u001b[0;34m\"Files from 'Apple hit' have been merged into 'Apple rotten'.\"\u001b[0m\u001b[0;34m)\u001b[0m\u001b[0;34m\u001b[0m\u001b[0;34m\u001b[0m\u001b[0m\n",
            "\u001b[0;31mNameError\u001b[0m: name 'shutil' is not defined"
          ]
        }
      ]
    },
    {
      "cell_type": "markdown",
      "source": [
        "**Load Dataset**"
      ],
      "metadata": {
        "id": "R_1Z7PKWYZg-"
      }
    },
    {
      "cell_type": "code",
      "source": [
        "#load the dataset\n",
        "#with tensorflow\n",
        "import tensorflow as tf\n",
        "from tensorflow.keras.preprocessing.image import ImageDataGenerator\n",
        "\n",
        "# Define paths\n",
        "train_dir = 'SCTPAIMLcapstone/Training'\n",
        "test_dir = 'SCTPAIMLcapstone/Test'\n",
        "validate_dir = 'SCTPAIMLcapstone/Validation'\n",
        "\n",
        "# Data generators for training and testing, normalise image to 255, target size 180by180, batch size 32\n",
        "# Preprocess the image to match the input shape expected by the model\n",
        "\n",
        "train_datagen = ImageDataGenerator(rescale=1./255)\n",
        "test_datagen = ImageDataGenerator(rescale=1./255)\n",
        "validate_datagen = ImageDataGenerator(rescale=1./255)\n",
        "\n",
        "train_generator = train_datagen.flow_from_directory(\n",
        "    train_dir,\n",
        "    target_size=(180, 180),\n",
        "    batch_size=32,\n",
        "    class_mode='categorical'\n",
        ")\n",
        "\n",
        "test_generator = test_datagen.flow_from_directory(\n",
        "    test_dir,\n",
        "    target_size=(180, 180),\n",
        "    batch_size=32,\n",
        "    class_mode='categorical'\n",
        ")\n",
        "\n",
        "validate_generator = test_datagen.flow_from_directory(\n",
        "    test_dir,\n",
        "    target_size=(180, 180),\n",
        "    batch_size=32,\n",
        "    class_mode='categorical'\n",
        ")\n",
        "\n",
        "print(\"Data loaded successfully!\")\n"
      ],
      "metadata": {
        "colab": {
          "base_uri": "https://localhost:8080/",
          "height": 407
        },
        "id": "-It4zWPr4PMR",
        "outputId": "53d7ab82-f3cb-43b8-a633-2297dc14985d"
      },
      "execution_count": 13,
      "outputs": [
        {
          "output_type": "stream",
          "name": "stdout",
          "text": [
            "Found 1096 images belonging to 3 classes.\n"
          ]
        },
        {
          "output_type": "error",
          "ename": "FileNotFoundError",
          "evalue": "[Errno 2] No such file or directory: 'SCTPAIMLcapstone/Test'",
          "traceback": [
            "\u001b[0;31m---------------------------------------------------------------------------\u001b[0m",
            "\u001b[0;31mFileNotFoundError\u001b[0m                         Traceback (most recent call last)",
            "\u001b[0;32m<ipython-input-13-9639c483f566>\u001b[0m in \u001b[0;36m<cell line: 23>\u001b[0;34m()\u001b[0m\n\u001b[1;32m     21\u001b[0m )\n\u001b[1;32m     22\u001b[0m \u001b[0;34m\u001b[0m\u001b[0m\n\u001b[0;32m---> 23\u001b[0;31m test_generator = test_datagen.flow_from_directory(\n\u001b[0m\u001b[1;32m     24\u001b[0m     \u001b[0mtest_dir\u001b[0m\u001b[0;34m,\u001b[0m\u001b[0;34m\u001b[0m\u001b[0;34m\u001b[0m\u001b[0m\n\u001b[1;32m     25\u001b[0m     \u001b[0mtarget_size\u001b[0m\u001b[0;34m=\u001b[0m\u001b[0;34m(\u001b[0m\u001b[0;36m180\u001b[0m\u001b[0;34m,\u001b[0m \u001b[0;36m180\u001b[0m\u001b[0;34m)\u001b[0m\u001b[0;34m,\u001b[0m\u001b[0;34m\u001b[0m\u001b[0;34m\u001b[0m\u001b[0m\n",
            "\u001b[0;32m/usr/local/lib/python3.10/dist-packages/keras/src/legacy/preprocessing/image.py\u001b[0m in \u001b[0;36mflow_from_directory\u001b[0;34m(self, directory, target_size, color_mode, classes, class_mode, batch_size, shuffle, seed, save_to_dir, save_prefix, save_format, follow_links, subset, interpolation, keep_aspect_ratio)\u001b[0m\n\u001b[1;32m   1136\u001b[0m         \u001b[0mkeep_aspect_ratio\u001b[0m\u001b[0;34m=\u001b[0m\u001b[0;32mFalse\u001b[0m\u001b[0;34m,\u001b[0m\u001b[0;34m\u001b[0m\u001b[0;34m\u001b[0m\u001b[0m\n\u001b[1;32m   1137\u001b[0m     ):\n\u001b[0;32m-> 1138\u001b[0;31m         return DirectoryIterator(\n\u001b[0m\u001b[1;32m   1139\u001b[0m             \u001b[0mdirectory\u001b[0m\u001b[0;34m,\u001b[0m\u001b[0;34m\u001b[0m\u001b[0;34m\u001b[0m\u001b[0m\n\u001b[1;32m   1140\u001b[0m             \u001b[0mself\u001b[0m\u001b[0;34m,\u001b[0m\u001b[0;34m\u001b[0m\u001b[0;34m\u001b[0m\u001b[0m\n",
            "\u001b[0;32m/usr/local/lib/python3.10/dist-packages/keras/src/legacy/preprocessing/image.py\u001b[0m in \u001b[0;36m__init__\u001b[0;34m(self, directory, image_data_generator, target_size, color_mode, classes, class_mode, batch_size, shuffle, seed, data_format, save_to_dir, save_prefix, save_format, follow_links, subset, interpolation, keep_aspect_ratio, dtype)\u001b[0m\n\u001b[1;32m    451\u001b[0m         \u001b[0;32mif\u001b[0m \u001b[0;32mnot\u001b[0m \u001b[0mclasses\u001b[0m\u001b[0;34m:\u001b[0m\u001b[0;34m\u001b[0m\u001b[0;34m\u001b[0m\u001b[0m\n\u001b[1;32m    452\u001b[0m             \u001b[0mclasses\u001b[0m \u001b[0;34m=\u001b[0m \u001b[0;34m[\u001b[0m\u001b[0;34m]\u001b[0m\u001b[0;34m\u001b[0m\u001b[0;34m\u001b[0m\u001b[0m\n\u001b[0;32m--> 453\u001b[0;31m             \u001b[0;32mfor\u001b[0m \u001b[0msubdir\u001b[0m \u001b[0;32min\u001b[0m \u001b[0msorted\u001b[0m\u001b[0;34m(\u001b[0m\u001b[0mos\u001b[0m\u001b[0;34m.\u001b[0m\u001b[0mlistdir\u001b[0m\u001b[0;34m(\u001b[0m\u001b[0mdirectory\u001b[0m\u001b[0;34m)\u001b[0m\u001b[0;34m)\u001b[0m\u001b[0;34m:\u001b[0m\u001b[0;34m\u001b[0m\u001b[0;34m\u001b[0m\u001b[0m\n\u001b[0m\u001b[1;32m    454\u001b[0m                 \u001b[0;32mif\u001b[0m \u001b[0mos\u001b[0m\u001b[0;34m.\u001b[0m\u001b[0mpath\u001b[0m\u001b[0;34m.\u001b[0m\u001b[0misdir\u001b[0m\u001b[0;34m(\u001b[0m\u001b[0mos\u001b[0m\u001b[0;34m.\u001b[0m\u001b[0mpath\u001b[0m\u001b[0;34m.\u001b[0m\u001b[0mjoin\u001b[0m\u001b[0;34m(\u001b[0m\u001b[0mdirectory\u001b[0m\u001b[0;34m,\u001b[0m \u001b[0msubdir\u001b[0m\u001b[0;34m)\u001b[0m\u001b[0;34m)\u001b[0m\u001b[0;34m:\u001b[0m\u001b[0;34m\u001b[0m\u001b[0;34m\u001b[0m\u001b[0m\n\u001b[1;32m    455\u001b[0m                     \u001b[0mclasses\u001b[0m\u001b[0;34m.\u001b[0m\u001b[0mappend\u001b[0m\u001b[0;34m(\u001b[0m\u001b[0msubdir\u001b[0m\u001b[0;34m)\u001b[0m\u001b[0;34m\u001b[0m\u001b[0;34m\u001b[0m\u001b[0m\n",
            "\u001b[0;31mFileNotFoundError\u001b[0m: [Errno 2] No such file or directory: 'SCTPAIMLcapstone/Test'"
          ]
        }
      ]
    },
    {
      "cell_type": "markdown",
      "source": [
        "**List Dataset for View**"
      ],
      "metadata": {
        "id": "lvZdIrg6YsiP"
      }
    },
    {
      "cell_type": "code",
      "source": [
        "# Define the root directory of the dataset\n",
        "root_dir = 'SCTPAIMLcapstone/Training'\n",
        "\n",
        "# List all subdirectories (i.e., apple fruit classes)\n",
        "apple_classes = os.listdir(root_dir)\n",
        "print(\"Apple Classes:\", apple_classes)\n",
        "\n",
        "# List the first few images in the 'apple_red_1' class folder\n",
        "apple_dir = os.path.join(root_dir, 'apple_red_1')\n",
        "apple_images = os.listdir(apple_dir)\n",
        "print(\"1st five Apple Images:\", apple_images[:5])  # Print first 5 images in the Apple directory\n"
      ],
      "metadata": {
        "colab": {
          "base_uri": "https://localhost:8080/"
        },
        "id": "wZsFgpiM7KVK",
        "outputId": "6c228dcb-17f6-4168-ba00-308a64aa1a8b"
      },
      "execution_count": 14,
      "outputs": [
        {
          "output_type": "stream",
          "name": "stdout",
          "text": [
            "Apple Classes: ['apple_hit_1', 'apple_rotten_1', 'apple_red_1']\n",
            "1st five Apple Images: ['r1_108.jpg', 'r1_62.jpg', 'r0_44.jpg', 'r0_76.jpg', 'r1_226.jpg']\n"
          ]
        }
      ]
    },
    {
      "cell_type": "markdown",
      "source": [
        "**Load Image to View**"
      ],
      "metadata": {
        "id": "Qm7pqXY6Ytd1"
      }
    },
    {
      "cell_type": "code",
      "source": [
        "# Load an example image\n",
        "# with PIL\n",
        "from PIL import Image\n",
        "image_path = os.path.join(apple_dir, 'r1_108.jpg')  # Adjust the path as necessary\n",
        "image = Image.open(image_path)\n",
        "\n",
        "# Show the image\n",
        "image.show()"
      ],
      "metadata": {
        "id": "k93wn6ek6DaX"
      },
      "execution_count": 15,
      "outputs": []
    },
    {
      "cell_type": "markdown",
      "source": [
        "**Load Image to View**"
      ],
      "metadata": {
        "id": "f1xxgdVvfNQj"
      }
    },
    {
      "cell_type": "code",
      "execution_count": 16,
      "metadata": {
        "execution": {
          "iopub.execute_input": "2024-06-26T11:58:20.399500Z",
          "iopub.status.busy": "2024-06-26T11:58:20.398712Z",
          "iopub.status.idle": "2024-06-26T11:58:20.429695Z",
          "shell.execute_reply": "2024-06-26T11:58:20.428835Z",
          "shell.execute_reply.started": "2024-06-26T11:58:20.399466Z"
        },
        "id": "4a9171e3",
        "colab": {
          "base_uri": "https://localhost:8080/",
          "height": 219
        },
        "outputId": "cfca3619-b87c-4485-9e83-3fd60fc99589"
      },
      "outputs": [
        {
          "output_type": "error",
          "ename": "NameError",
          "evalue": "name 'img_height' is not defined",
          "traceback": [
            "\u001b[0;31m---------------------------------------------------------------------------\u001b[0m",
            "\u001b[0;31mNameError\u001b[0m                                 Traceback (most recent call last)",
            "\u001b[0;32m<ipython-input-16-a9ef9fc4cbb9>\u001b[0m in \u001b[0;36m<cell line: 1>\u001b[0;34m()\u001b[0m\n\u001b[1;32m      2\u001b[0m   [\n\u001b[1;32m      3\u001b[0m     layers.RandomFlip(\"horizontal\",\n\u001b[0;32m----> 4\u001b[0;31m                       input_shape=(img_height,\n\u001b[0m\u001b[1;32m      5\u001b[0m                                   \u001b[0mimg_width\u001b[0m\u001b[0;34m,\u001b[0m\u001b[0;34m\u001b[0m\u001b[0;34m\u001b[0m\u001b[0m\n\u001b[1;32m      6\u001b[0m                                   3)),\n",
            "\u001b[0;31mNameError\u001b[0m: name 'img_height' is not defined"
          ]
        }
      ],
      "source": [
        "data_augmentation = keras.Sequential(\n",
        "  [\n",
        "    layers.RandomFlip(\"horizontal\",\n",
        "                      input_shape=(img_height,\n",
        "                                  img_width,\n",
        "                                  3)),\n",
        "    layers.RandomRotation(0.1),\n",
        "    layers.RandomZoom(0.1),\n",
        "  ]\n",
        ")"
      ]
    },
    {
      "cell_type": "code",
      "execution_count": null,
      "metadata": {
        "execution": {
          "iopub.execute_input": "2024-06-26T11:58:23.156174Z",
          "iopub.status.busy": "2024-06-26T11:58:23.155331Z",
          "iopub.status.idle": "2024-06-26T11:58:23.176710Z",
          "shell.execute_reply": "2024-06-26T11:58:23.175845Z",
          "shell.execute_reply.started": "2024-06-26T11:58:23.156142Z"
        },
        "id": "145712ec"
      },
      "outputs": [],
      "source": [
        "model = Sequential([\n",
        "  data_augmentation,\n",
        "  layers.Rescaling(1./255),\n",
        "  layers.Conv2D(16, 3, padding='same', activation='relu'),\n",
        "  layers.MaxPooling2D(),\n",
        "  layers.Conv2D(32, 3, padding='same', activation='tanh'),\n",
        "  layers.MaxPooling2D(),\n",
        "  layers.Conv2D(64, 3, padding='same', activation='relu'),\n",
        "  layers.MaxPooling2D(),\n",
        "  layers.Dropout(0.2),\n",
        "  layers.Flatten(),\n",
        "  layers.Dense(128, activation='relu'),\n",
        "  layers.Dense(128, activation='relu'),\n",
        "  layers.Dense(num_classes, name=\"outputs\")\n",
        "])"
      ]
    },
    {
      "cell_type": "code",
      "execution_count": null,
      "metadata": {
        "execution": {
          "iopub.execute_input": "2024-06-26T11:58:25.419396Z",
          "iopub.status.busy": "2024-06-26T11:58:25.418614Z",
          "iopub.status.idle": "2024-06-26T11:58:25.438806Z",
          "shell.execute_reply": "2024-06-26T11:58:25.438052Z",
          "shell.execute_reply.started": "2024-06-26T11:58:25.419364Z"
        },
        "id": "abee5177"
      },
      "outputs": [],
      "source": [
        "model.compile(optimizer='adam',\n",
        "              loss=tf.keras.losses.SparseCategoricalCrossentropy(from_logits=True),\n",
        "              metrics=['accuracy'])"
      ]
    },
    {
      "cell_type": "code",
      "execution_count": null,
      "metadata": {
        "execution": {
          "iopub.execute_input": "2024-06-26T11:59:16.183798Z",
          "iopub.status.busy": "2024-06-26T11:59:16.182926Z",
          "iopub.status.idle": "2024-06-26T12:06:12.778576Z",
          "shell.execute_reply": "2024-06-26T12:06:12.777551Z",
          "shell.execute_reply.started": "2024-06-26T11:59:16.183761Z"
        },
        "colab": {
          "base_uri": "https://localhost:8080/"
        },
        "id": "5d4bcdd3",
        "outputId": "3e6f099f-a696-44f3-9413-e045d6255a46"
      },
      "outputs": [
        {
          "output_type": "stream",
          "name": "stdout",
          "text": [
            "Epoch 1/10\n",
            "1875/1875 [==============================] - 69s 37ms/step - loss: 0.0164 - accuracy: 0.9951 - val_loss: 0.0190 - val_accuracy: 0.9949\n",
            "Epoch 2/10\n",
            "1875/1875 [==============================] - 66s 35ms/step - loss: 0.0160 - accuracy: 0.9948 - val_loss: 0.0434 - val_accuracy: 0.9852\n",
            "Epoch 3/10\n",
            "1875/1875 [==============================] - 68s 36ms/step - loss: 0.0152 - accuracy: 0.9954 - val_loss: 0.0157 - val_accuracy: 0.9952\n",
            "Epoch 4/10\n",
            "1875/1875 [==============================] - 72s 38ms/step - loss: 0.0149 - accuracy: 0.9952 - val_loss: 0.0093 - val_accuracy: 0.9975\n",
            "Epoch 5/10\n",
            "1875/1875 [==============================] - 70s 37ms/step - loss: 0.0206 - accuracy: 0.9939 - val_loss: 0.0574 - val_accuracy: 0.9823\n",
            "Epoch 6/10\n",
            "1875/1875 [==============================] - 68s 36ms/step - loss: 0.0150 - accuracy: 0.9952 - val_loss: 0.0613 - val_accuracy: 0.9852\n",
            "Epoch 7/10\n",
            "1875/1875 [==============================] - 68s 36ms/step - loss: 0.0154 - accuracy: 0.9954 - val_loss: 0.0186 - val_accuracy: 0.9942\n",
            "Epoch 8/10\n",
            "1875/1875 [==============================] - 67s 36ms/step - loss: 0.0162 - accuracy: 0.9955 - val_loss: 0.1403 - val_accuracy: 0.9690\n",
            "Epoch 9/10\n",
            "1875/1875 [==============================] - 69s 37ms/step - loss: 0.0143 - accuracy: 0.9956 - val_loss: 0.0229 - val_accuracy: 0.9935\n",
            "Epoch 10/10\n",
            "1875/1875 [==============================] - 67s 36ms/step - loss: 0.0125 - accuracy: 0.9963 - val_loss: 0.0268 - val_accuracy: 0.9924\n"
          ]
        }
      ],
      "source": [
        "epochs = 10\n",
        "history = model.fit(\n",
        "  train_ds,\n",
        "  validation_data=val_ds,\n",
        "  epochs=epochs\n",
        ")"
      ]
    },
    {
      "cell_type": "code",
      "execution_count": null,
      "metadata": {
        "execution": {
          "iopub.execute_input": "2024-06-26T12:12:44.978852Z",
          "iopub.status.busy": "2024-06-26T12:12:44.977940Z",
          "iopub.status.idle": "2024-06-26T12:12:45.442548Z",
          "shell.execute_reply": "2024-06-26T12:12:45.441378Z",
          "shell.execute_reply.started": "2024-06-26T12:12:44.978818Z"
        },
        "colab": {
          "base_uri": "https://localhost:8080/",
          "height": 699
        },
        "id": "ae1cc754",
        "outputId": "ddc75623-bb13-47d2-e73d-836b7cd8562f"
      },
      "outputs": [
        {
          "output_type": "display_data",
          "data": {
            "text/plain": [
              "<Figure size 800x800 with 2 Axes>"
            ],
            "image/png": "[encoded data removed]"
          },
          "metadata": {}
        }
      ],
      "source": [
        "acc = history.history['accuracy']\n",
        "val_acc = history.history['val_accuracy']\n",
        "\n",
        "loss = history.history['loss']\n",
        "val_loss = history.history['val_loss']\n",
        "\n",
        "epochs_range = range(epochs)\n",
        "\n",
        "plt.figure(figsize=(8, 8))\n",
        "plt.subplot(1, 2, 1)\n",
        "plt.plot(epochs_range, acc, label='Training Accuracy')\n",
        "plt.plot(epochs_range, val_acc, label='Validation Accuracy')\n",
        "plt.legend(loc='lower right')\n",
        "plt.title('Training and Validation Accuracy')\n",
        "\n",
        "plt.subplot(1, 2, 2)\n",
        "plt.plot(epochs_range, loss, label='Training Loss')\n",
        "plt.plot(epochs_range, val_loss, label='Validation Loss')\n",
        "plt.legend(loc='upper right')\n",
        "plt.title('Training and Validation Loss')\n",
        "plt.show()"
      ]
    },
    {
      "cell_type": "code",
      "execution_count": null,
      "metadata": {
        "execution": {
          "iopub.execute_input": "2024-06-26T12:12:51.490784Z",
          "iopub.status.busy": "2024-06-26T12:12:51.489853Z",
          "iopub.status.idle": "2024-06-26T12:12:51.520947Z",
          "shell.execute_reply": "2024-06-26T12:12:51.520054Z",
          "shell.execute_reply.started": "2024-06-26T12:12:51.490746Z"
        },
        "colab": {
          "base_uri": "https://localhost:8080/"
        },
        "id": "963c6edf",
        "outputId": "abd8194f-0d2b-4929-ff18-b7a635609451"
      },
      "outputs": [
        {
          "output_type": "stream",
          "name": "stdout",
          "text": [
            "Model: \"sequential_1\"\n",
            "_________________________________________________________________\n",
            " Layer (type)                Output Shape              Param #   \n",
            "=================================================================\n",
            " sequential (Sequential)     (None, 180, 180, 3)       0         \n",
            "                                                                 \n",
            " rescaling (Rescaling)       (None, 180, 180, 3)       0         \n",
            "                                                                 \n",
            " conv2d (Conv2D)             (None, 180, 180, 16)      448       \n",
            "                                                                 \n",
            " max_pooling2d (MaxPooling2  (None, 90, 90, 16)        0         \n",
            " D)                                                              \n",
            "                                                                 \n",
            " conv2d_1 (Conv2D)           (None, 90, 90, 32)        4640      \n",
            "                                                                 \n",
            " max_pooling2d_1 (MaxPoolin  (None, 45, 45, 32)        0         \n",
            " g2D)                                                            \n",
            "                                                                 \n",
            " conv2d_2 (Conv2D)           (None, 45, 45, 64)        18496     \n",
            "                                                                 \n",
            " max_pooling2d_2 (MaxPoolin  (None, 22, 22, 64)        0         \n",
            " g2D)                                                            \n",
            "                                                                 \n",
            " dropout (Dropout)           (None, 22, 22, 64)        0         \n",
            "                                                                 \n",
            " flatten (Flatten)           (None, 30976)             0         \n",
            "                                                                 \n",
            " dense (Dense)               (None, 128)               3965056   \n",
            "                                                                 \n",
            " dense_1 (Dense)             (None, 128)               16512     \n",
            "                                                                 \n",
            " outputs (Dense)             (None, 5)                 645       \n",
            "                                                                 \n",
            "=================================================================\n",
            "Total params: 4005797 (15.28 MB)\n",
            "Trainable params: 4005797 (15.28 MB)\n",
            "Non-trainable params: 0 (0.00 Byte)\n",
            "_________________________________________________________________\n"
          ]
        }
      ],
      "source": [
        "model.summary()"
      ]
    },
    {
      "cell_type": "code",
      "execution_count": null,
      "metadata": {
        "execution": {
          "iopub.execute_input": "2024-06-26T12:21:10.536759Z",
          "iopub.status.busy": "2024-06-26T12:21:10.536335Z",
          "iopub.status.idle": "2024-06-26T12:21:11.455109Z",
          "shell.execute_reply": "2024-06-26T12:21:11.454176Z",
          "shell.execute_reply.started": "2024-06-26T12:21:10.536729Z"
        },
        "colab": {
          "base_uri": "https://localhost:8080/"
        },
        "id": "75085428",
        "outputId": "ef3a816a-8d2f-4903-fc78-a3336a366ba4"
      },
      "outputs": [
        {
          "output_type": "stream",
          "name": "stdout",
          "text": [
            "Downloading data from https://www.punjabricemills.com/assets/img/Super-Kernel-Basmati.png\n",
            "97860/97860 [==============================] - 0s 2us/step\n",
            "1/1 [==============================] - 0s 312ms/step\n",
            "This image most likely belongs to Jasmine with a 99.29 percent confidence.\n"
          ]
        }
      ],
      "source": [
        "img_url = \"https://www.punjabricemills.com/assets/img/Super-Kernel-Basmati.png\"\n",
        "img_path = tf.keras.utils.get_file('test_grain_skb', origin=img_url)\n",
        "\n",
        "img = tf.keras.utils.load_img(\n",
        "    img_path, target_size=(img_height, img_width)\n",
        ")\n",
        "img_array = tf.keras.utils.img_to_array(img)\n",
        "img_array = tf.expand_dims(img_array, 0) # Create a batch\n",
        "\n",
        "predictions = model.predict(img_array)\n",
        "score = tf.nn.softmax(predictions[0])\n",
        "\n",
        "print(\n",
        "    \"This image most likely belongs to {} with a {:.2f} percent confidence.\"\n",
        "    .format(class_names[np.argmax(score)], 100 * np.max(score))\n",
        ")"
      ]
    },
    {
      "cell_type": "code",
      "execution_count": null,
      "metadata": {
        "papermill": {
          "duration": 0.008765,
          "end_time": "2024-06-24T12:27:05.198196",
          "exception": false,
          "start_time": "2024-06-24T12:27:05.189431",
          "status": "completed"
        },
        "tags": [],
        "id": "9c9d12e8"
      },
      "outputs": [],
      "source": [
        "from tensorflow.keras.models import save_model, load_model\n",
        "\n",
        "#save_model(model, \"ricemodel_beras.keras\")"
      ]
    },
    {
      "cell_type": "code",
      "execution_count": null,
      "metadata": {
        "id": "590b215d"
      },
      "outputs": [],
      "source": [
        "confusion_matrix = np.zeros((num_classes, num_classes))\n",
        "\n",
        "for images, labels in val_ds:\n",
        "    predictions = model.predict(images)\n",
        "    predicted_classes = np.argmax(predictions, axis=1)\n",
        "    confusion_matrix += tf.math.confusion_matrix(labels, predicted_classes).numpy()\n",
        "\n",
        "# Normalize confusion matrix if needed\n"
      ]
    },
    {
      "cell_type": "code",
      "execution_count": null,
      "metadata": {
        "id": "ea68c454"
      },
      "outputs": [],
      "source": [
        "confusion_matrix"
      ]
    },
    {
      "cell_type": "code",
      "execution_count": null,
      "metadata": {
        "id": "69161a2a"
      },
      "outputs": [],
      "source": [
        "import seaborn as sns\n",
        "\n",
        "sns.heatmap(confusion_matrix, annot=True, fmt='g',\n",
        "            xticklabels=class_names, yticklabels=class_names, cmap='viridis')\n",
        "plt.xlabel('Predicted Label')\n",
        "plt.ylabel('True Label')\n",
        "plt.title('Confusion Matrix')\n",
        "plt.show()"
      ]
    }
  ]
}